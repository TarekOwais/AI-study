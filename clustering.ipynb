{
 "cells": [
  {
   "cell_type": "code",
   "execution_count": 1,
   "id": "896ccb22",
   "metadata": {},
   "outputs": [],
   "source": [
    "import numpy as np, pandas as pd"
   ]
  },
  {
   "cell_type": "code",
   "execution_count": 2,
   "id": "c450e32e",
   "metadata": {},
   "outputs": [],
   "source": [
    "import numpy as np, seaborn as sns, matplotlib.pyplot as plt"
   ]
  },
  {
   "cell_type": "code",
   "execution_count": 231,
   "id": "2e42339b",
   "metadata": {},
   "outputs": [],
   "source": [
    "df=pd.read_csv(\"df3 merged integers.csv\")"
   ]
  },
  {
   "cell_type": "code",
   "execution_count": 232,
   "id": "2f8df785",
   "metadata": {
    "scrolled": true
   },
   "outputs": [
    {
     "data": {
      "text/html": [
       "<div>\n",
       "<style scoped>\n",
       "    .dataframe tbody tr th:only-of-type {\n",
       "        vertical-align: middle;\n",
       "    }\n",
       "\n",
       "    .dataframe tbody tr th {\n",
       "        vertical-align: top;\n",
       "    }\n",
       "\n",
       "    .dataframe thead th {\n",
       "        text-align: right;\n",
       "    }\n",
       "</style>\n",
       "<table border=\"1\" class=\"dataframe\">\n",
       "  <thead>\n",
       "    <tr style=\"text-align: right;\">\n",
       "      <th></th>\n",
       "      <th>Unnamed: 0</th>\n",
       "      <th>X6.I.consider.myself.a.tech.savvy..well.informed.about.or.proficient.in.the.use.of.modern.technology..especially.computers.</th>\n",
       "      <th>X7.I.have.an.understanding.of.the.basic.computational.principles.of.artificial.intelligence..AI.</th>\n",
       "      <th>X8.I.am.comfortable.with.the.nomenclature.related.to.artificial.intelligence</th>\n",
       "      <th>X9.I.have.an.understanding.of.the.limitations.of.artificial.intelligence</th>\n",
       "      <th>X10.Deep.Learning..and..Artificial.Intelligence..are.currently.being.broadly.discussed.in.the.radiological.community...Were.you.already.aware.of.these.topics.in.radiology..</th>\n",
       "      <th>X11.Deep.Learning..and..Artificial.Intelligence..are.currently.being.broadly.discussed.in.the.radiological.community...Do.you.personally.have.a.basic.understanding.of.the.technologies.used.in.these.topics..</th>\n",
       "      <th>X13.The.following.questions.test.your.understanding.of.deep.learning..a.subtype.of.artificial.intelligence....Deep.learning.is.a.class.of.machine.learning.algorithms.that.use.multiple.layers.of.neural.networks..</th>\n",
       "      <th>X14.The.following.questions.test.your.understanding.of.deep.learning..a.subtype.of.artificial.intelligence....Deep.learning.methods.learn.directly.from.data..without.the.need.for.manual.feature.extraction..</th>\n",
       "      <th>X15.The.following.questions.test.your.understanding.of.deep.learning..a.subtype.of.artificial.intelligence....Application.of.deep.learning.in.radiology.requires.large.databases.of.labeled.medical.images..</th>\n",
       "      <th>...</th>\n",
       "      <th>X30.Which.of.these.specialties.do.you.think.will.be.impacted.the.earliest.and.most.</th>\n",
       "      <th>X31.All.medical.students.should.receive.teaching.in.artificial.intelligence</th>\n",
       "      <th>X32.Teaching.in.artificial.intelligence.will.be.beneficial.for.my.career</th>\n",
       "      <th>X33.At.the.end.of.my.medical.degree..I.will.be.confident.in.using.basic.healthcare.AI.tools.if.required</th>\n",
       "      <th>X34.At.the.end.of.my.medical.degree..I.will.have.a.better.understanding.of.the.methods.used.to.assess.healthcare.AI.algorithm.performance</th>\n",
       "      <th>X35.Overall..at.the.end.of.my.medical.degree..I.feel.I.will.possess.the.knowledge.needed.to.work.with.AI.in.routine.clinical.practice</th>\n",
       "      <th>X36.Would.you.consider.using.the.following.clinical.workflow..Patients..clinical.images.undergo.artificial.intelligence.analysis..A.specialist.subsequently.reviews.both.the.image.and.the.artificial.intelligence.findings.</th>\n",
       "      <th>X37.What.potential.applications.for.AI.in.radiology.do.you.see...Automated.detection.of.pathologies.in.imaging.exams.</th>\n",
       "      <th>X38.What.potential.applications.for.AI.in.radiology.do.you.see...Automated.diagnosis.in.imaging.exams.</th>\n",
       "      <th>X39.What.potential.applications.for.AI.in.radiology.do.you.see...Automated.indication.of.appropriate.imaging.exams.</th>\n",
       "    </tr>\n",
       "  </thead>\n",
       "  <tbody>\n",
       "    <tr>\n",
       "      <th>0</th>\n",
       "      <td>1</td>\n",
       "      <td>9</td>\n",
       "      <td>1</td>\n",
       "      <td>9</td>\n",
       "      <td>1</td>\n",
       "      <td>0</td>\n",
       "      <td>1</td>\n",
       "      <td>9</td>\n",
       "      <td>9</td>\n",
       "      <td>1</td>\n",
       "      <td>...</td>\n",
       "      <td>9</td>\n",
       "      <td>1</td>\n",
       "      <td>0</td>\n",
       "      <td>9</td>\n",
       "      <td>9</td>\n",
       "      <td>9</td>\n",
       "      <td>9</td>\n",
       "      <td>9</td>\n",
       "      <td>9</td>\n",
       "      <td>1</td>\n",
       "    </tr>\n",
       "    <tr>\n",
       "      <th>1</th>\n",
       "      <td>2</td>\n",
       "      <td>9</td>\n",
       "      <td>9</td>\n",
       "      <td>9</td>\n",
       "      <td>9</td>\n",
       "      <td>0</td>\n",
       "      <td>0</td>\n",
       "      <td>1</td>\n",
       "      <td>9</td>\n",
       "      <td>1</td>\n",
       "      <td>...</td>\n",
       "      <td>9</td>\n",
       "      <td>1</td>\n",
       "      <td>1</td>\n",
       "      <td>9</td>\n",
       "      <td>1</td>\n",
       "      <td>1</td>\n",
       "      <td>1</td>\n",
       "      <td>1</td>\n",
       "      <td>1</td>\n",
       "      <td>1</td>\n",
       "    </tr>\n",
       "    <tr>\n",
       "      <th>2</th>\n",
       "      <td>3</td>\n",
       "      <td>1</td>\n",
       "      <td>9</td>\n",
       "      <td>1</td>\n",
       "      <td>9</td>\n",
       "      <td>1</td>\n",
       "      <td>0</td>\n",
       "      <td>1</td>\n",
       "      <td>9</td>\n",
       "      <td>1</td>\n",
       "      <td>...</td>\n",
       "      <td>9</td>\n",
       "      <td>1</td>\n",
       "      <td>1</td>\n",
       "      <td>9</td>\n",
       "      <td>1</td>\n",
       "      <td>9</td>\n",
       "      <td>1</td>\n",
       "      <td>1</td>\n",
       "      <td>0</td>\n",
       "      <td>0</td>\n",
       "    </tr>\n",
       "    <tr>\n",
       "      <th>3</th>\n",
       "      <td>4</td>\n",
       "      <td>9</td>\n",
       "      <td>0</td>\n",
       "      <td>0</td>\n",
       "      <td>0</td>\n",
       "      <td>1</td>\n",
       "      <td>1</td>\n",
       "      <td>1</td>\n",
       "      <td>1</td>\n",
       "      <td>1</td>\n",
       "      <td>...</td>\n",
       "      <td>9</td>\n",
       "      <td>9</td>\n",
       "      <td>9</td>\n",
       "      <td>9</td>\n",
       "      <td>0</td>\n",
       "      <td>9</td>\n",
       "      <td>1</td>\n",
       "      <td>1</td>\n",
       "      <td>1</td>\n",
       "      <td>1</td>\n",
       "    </tr>\n",
       "    <tr>\n",
       "      <th>4</th>\n",
       "      <td>5</td>\n",
       "      <td>1</td>\n",
       "      <td>0</td>\n",
       "      <td>9</td>\n",
       "      <td>1</td>\n",
       "      <td>0</td>\n",
       "      <td>0</td>\n",
       "      <td>1</td>\n",
       "      <td>1</td>\n",
       "      <td>9</td>\n",
       "      <td>...</td>\n",
       "      <td>9</td>\n",
       "      <td>1</td>\n",
       "      <td>1</td>\n",
       "      <td>1</td>\n",
       "      <td>1</td>\n",
       "      <td>1</td>\n",
       "      <td>1</td>\n",
       "      <td>1</td>\n",
       "      <td>1</td>\n",
       "      <td>1</td>\n",
       "    </tr>\n",
       "  </tbody>\n",
       "</table>\n",
       "<p>5 rows × 34 columns</p>\n",
       "</div>"
      ],
      "text/plain": [
       "   Unnamed: 0  \\\n",
       "0           1   \n",
       "1           2   \n",
       "2           3   \n",
       "3           4   \n",
       "4           5   \n",
       "\n",
       "   X6.I.consider.myself.a.tech.savvy..well.informed.about.or.proficient.in.the.use.of.modern.technology..especially.computers.  \\\n",
       "0                                                  9                                                                             \n",
       "1                                                  9                                                                             \n",
       "2                                                  1                                                                             \n",
       "3                                                  9                                                                             \n",
       "4                                                  1                                                                             \n",
       "\n",
       "   X7.I.have.an.understanding.of.the.basic.computational.principles.of.artificial.intelligence..AI.  \\\n",
       "0                                                  1                                                  \n",
       "1                                                  9                                                  \n",
       "2                                                  9                                                  \n",
       "3                                                  0                                                  \n",
       "4                                                  0                                                  \n",
       "\n",
       "   X8.I.am.comfortable.with.the.nomenclature.related.to.artificial.intelligence  \\\n",
       "0                                                  9                              \n",
       "1                                                  9                              \n",
       "2                                                  1                              \n",
       "3                                                  0                              \n",
       "4                                                  9                              \n",
       "\n",
       "   X9.I.have.an.understanding.of.the.limitations.of.artificial.intelligence  \\\n",
       "0                                                  1                          \n",
       "1                                                  9                          \n",
       "2                                                  9                          \n",
       "3                                                  0                          \n",
       "4                                                  1                          \n",
       "\n",
       "   X10.Deep.Learning..and..Artificial.Intelligence..are.currently.being.broadly.discussed.in.the.radiological.community...Were.you.already.aware.of.these.topics.in.radiology..  \\\n",
       "0                                                  0                                                                                                                              \n",
       "1                                                  0                                                                                                                              \n",
       "2                                                  1                                                                                                                              \n",
       "3                                                  1                                                                                                                              \n",
       "4                                                  0                                                                                                                              \n",
       "\n",
       "   X11.Deep.Learning..and..Artificial.Intelligence..are.currently.being.broadly.discussed.in.the.radiological.community...Do.you.personally.have.a.basic.understanding.of.the.technologies.used.in.these.topics..  \\\n",
       "0                                                  1                                                                                                                                                                \n",
       "1                                                  0                                                                                                                                                                \n",
       "2                                                  0                                                                                                                                                                \n",
       "3                                                  1                                                                                                                                                                \n",
       "4                                                  0                                                                                                                                                                \n",
       "\n",
       "   X13.The.following.questions.test.your.understanding.of.deep.learning..a.subtype.of.artificial.intelligence....Deep.learning.is.a.class.of.machine.learning.algorithms.that.use.multiple.layers.of.neural.networks..  \\\n",
       "0                                                  9                                                                                                                                                                     \n",
       "1                                                  1                                                                                                                                                                     \n",
       "2                                                  1                                                                                                                                                                     \n",
       "3                                                  1                                                                                                                                                                     \n",
       "4                                                  1                                                                                                                                                                     \n",
       "\n",
       "   X14.The.following.questions.test.your.understanding.of.deep.learning..a.subtype.of.artificial.intelligence....Deep.learning.methods.learn.directly.from.data..without.the.need.for.manual.feature.extraction..  \\\n",
       "0                                                  9                                                                                                                                                                \n",
       "1                                                  9                                                                                                                                                                \n",
       "2                                                  9                                                                                                                                                                \n",
       "3                                                  1                                                                                                                                                                \n",
       "4                                                  1                                                                                                                                                                \n",
       "\n",
       "   X15.The.following.questions.test.your.understanding.of.deep.learning..a.subtype.of.artificial.intelligence....Application.of.deep.learning.in.radiology.requires.large.databases.of.labeled.medical.images..  \\\n",
       "0                                                  1                                                                                                                                                              \n",
       "1                                                  1                                                                                                                                                              \n",
       "2                                                  1                                                                                                                                                              \n",
       "3                                                  1                                                                                                                                                              \n",
       "4                                                  9                                                                                                                                                              \n",
       "\n",
       "   ...  \\\n",
       "0  ...   \n",
       "1  ...   \n",
       "2  ...   \n",
       "3  ...   \n",
       "4  ...   \n",
       "\n",
       "   X30.Which.of.these.specialties.do.you.think.will.be.impacted.the.earliest.and.most.  \\\n",
       "0                                                  9                                     \n",
       "1                                                  9                                     \n",
       "2                                                  9                                     \n",
       "3                                                  9                                     \n",
       "4                                                  9                                     \n",
       "\n",
       "   X31.All.medical.students.should.receive.teaching.in.artificial.intelligence  \\\n",
       "0                                                  1                             \n",
       "1                                                  1                             \n",
       "2                                                  1                             \n",
       "3                                                  9                             \n",
       "4                                                  1                             \n",
       "\n",
       "   X32.Teaching.in.artificial.intelligence.will.be.beneficial.for.my.career  \\\n",
       "0                                                  0                          \n",
       "1                                                  1                          \n",
       "2                                                  1                          \n",
       "3                                                  9                          \n",
       "4                                                  1                          \n",
       "\n",
       "   X33.At.the.end.of.my.medical.degree..I.will.be.confident.in.using.basic.healthcare.AI.tools.if.required  \\\n",
       "0                                                  9                                                         \n",
       "1                                                  9                                                         \n",
       "2                                                  9                                                         \n",
       "3                                                  9                                                         \n",
       "4                                                  1                                                         \n",
       "\n",
       "   X34.At.the.end.of.my.medical.degree..I.will.have.a.better.understanding.of.the.methods.used.to.assess.healthcare.AI.algorithm.performance  \\\n",
       "0                                                  9                                                                                           \n",
       "1                                                  1                                                                                           \n",
       "2                                                  1                                                                                           \n",
       "3                                                  0                                                                                           \n",
       "4                                                  1                                                                                           \n",
       "\n",
       "   X35.Overall..at.the.end.of.my.medical.degree..I.feel.I.will.possess.the.knowledge.needed.to.work.with.AI.in.routine.clinical.practice  \\\n",
       "0                                                  9                                                                                       \n",
       "1                                                  1                                                                                       \n",
       "2                                                  9                                                                                       \n",
       "3                                                  9                                                                                       \n",
       "4                                                  1                                                                                       \n",
       "\n",
       "   X36.Would.you.consider.using.the.following.clinical.workflow..Patients..clinical.images.undergo.artificial.intelligence.analysis..A.specialist.subsequently.reviews.both.the.image.and.the.artificial.intelligence.findings.  \\\n",
       "0                                                  9                                                                                                                                                                              \n",
       "1                                                  1                                                                                                                                                                              \n",
       "2                                                  1                                                                                                                                                                              \n",
       "3                                                  1                                                                                                                                                                              \n",
       "4                                                  1                                                                                                                                                                              \n",
       "\n",
       "   X37.What.potential.applications.for.AI.in.radiology.do.you.see...Automated.detection.of.pathologies.in.imaging.exams.  \\\n",
       "0                                                  9                                                                       \n",
       "1                                                  1                                                                       \n",
       "2                                                  1                                                                       \n",
       "3                                                  1                                                                       \n",
       "4                                                  1                                                                       \n",
       "\n",
       "   X38.What.potential.applications.for.AI.in.radiology.do.you.see...Automated.diagnosis.in.imaging.exams.  \\\n",
       "0                                                  9                                                        \n",
       "1                                                  1                                                        \n",
       "2                                                  0                                                        \n",
       "3                                                  1                                                        \n",
       "4                                                  1                                                        \n",
       "\n",
       "   X39.What.potential.applications.for.AI.in.radiology.do.you.see...Automated.indication.of.appropriate.imaging.exams.  \n",
       "0                                                  1                                                                    \n",
       "1                                                  1                                                                    \n",
       "2                                                  0                                                                    \n",
       "3                                                  1                                                                    \n",
       "4                                                  1                                                                    \n",
       "\n",
       "[5 rows x 34 columns]"
      ]
     },
     "execution_count": 232,
     "metadata": {},
     "output_type": "execute_result"
    }
   ],
   "source": [
    "df.head()"
   ]
  },
  {
   "cell_type": "code",
   "execution_count": 233,
   "id": "c0a1d77e",
   "metadata": {},
   "outputs": [],
   "source": [
    "df=df.iloc[:,1:34]"
   ]
  },
  {
   "cell_type": "code",
   "execution_count": 234,
   "id": "abe929d8",
   "metadata": {
    "scrolled": true
   },
   "outputs": [
    {
     "data": {
      "text/plain": [
       "(4492, 33)"
      ]
     },
     "execution_count": 234,
     "metadata": {},
     "output_type": "execute_result"
    }
   ],
   "source": [
    "df.shape"
   ]
  },
  {
   "cell_type": "code",
   "execution_count": 320,
   "id": "6b6c0490",
   "metadata": {},
   "outputs": [
    {
     "data": {
      "text/html": [
       "<div>\n",
       "<style scoped>\n",
       "    .dataframe tbody tr th:only-of-type {\n",
       "        vertical-align: middle;\n",
       "    }\n",
       "\n",
       "    .dataframe tbody tr th {\n",
       "        vertical-align: top;\n",
       "    }\n",
       "\n",
       "    .dataframe thead th {\n",
       "        text-align: right;\n",
       "    }\n",
       "</style>\n",
       "<table border=\"1\" class=\"dataframe\">\n",
       "  <thead>\n",
       "    <tr style=\"text-align: right;\">\n",
       "      <th></th>\n",
       "      <th>Unnamed: 0</th>\n",
       "      <th>gender</th>\n",
       "      <th>university</th>\n",
       "      <th>living_zone</th>\n",
       "      <th>grade_merged</th>\n",
       "      <th>knowledge_merged</th>\n",
       "      <th>tech_merged</th>\n",
       "      <th>ai_training</th>\n",
       "    </tr>\n",
       "  </thead>\n",
       "  <tbody>\n",
       "    <tr>\n",
       "      <th>0</th>\n",
       "      <td>1</td>\n",
       "      <td>Male</td>\n",
       "      <td>Private</td>\n",
       "      <td>Urban</td>\n",
       "      <td>Academic years</td>\n",
       "      <td>low</td>\n",
       "      <td>N</td>\n",
       "      <td>No</td>\n",
       "    </tr>\n",
       "    <tr>\n",
       "      <th>1</th>\n",
       "      <td>2</td>\n",
       "      <td>Female</td>\n",
       "      <td>Governnmental</td>\n",
       "      <td>Urban</td>\n",
       "      <td>Clinical Years</td>\n",
       "      <td>low</td>\n",
       "      <td>N</td>\n",
       "      <td>No</td>\n",
       "    </tr>\n",
       "    <tr>\n",
       "      <th>2</th>\n",
       "      <td>3</td>\n",
       "      <td>Female</td>\n",
       "      <td>Governnmental</td>\n",
       "      <td>Urban</td>\n",
       "      <td>Clinical Years</td>\n",
       "      <td>low</td>\n",
       "      <td>A/SA</td>\n",
       "      <td>No</td>\n",
       "    </tr>\n",
       "    <tr>\n",
       "      <th>3</th>\n",
       "      <td>4</td>\n",
       "      <td>Male</td>\n",
       "      <td>Governnmental</td>\n",
       "      <td>Rural</td>\n",
       "      <td>Clinical Years</td>\n",
       "      <td>high/moderate</td>\n",
       "      <td>N</td>\n",
       "      <td>Yes</td>\n",
       "    </tr>\n",
       "    <tr>\n",
       "      <th>4</th>\n",
       "      <td>5</td>\n",
       "      <td>Male</td>\n",
       "      <td>Governnmental</td>\n",
       "      <td>Urban</td>\n",
       "      <td>Clinical Years</td>\n",
       "      <td>low</td>\n",
       "      <td>A/SA</td>\n",
       "      <td>No</td>\n",
       "    </tr>\n",
       "  </tbody>\n",
       "</table>\n",
       "</div>"
      ],
      "text/plain": [
       "   Unnamed: 0  gender     university living_zone    grade_merged  \\\n",
       "0           1    Male        Private       Urban  Academic years   \n",
       "1           2  Female  Governnmental       Urban  Clinical Years   \n",
       "2           3  Female  Governnmental       Urban  Clinical Years   \n",
       "3           4    Male  Governnmental       Rural  Clinical Years   \n",
       "4           5    Male  Governnmental       Urban  Clinical Years   \n",
       "\n",
       "  knowledge_merged tech_merged ai_training  \n",
       "0              low           N          No  \n",
       "1              low           N          No  \n",
       "2              low        A/SA          No  \n",
       "3    high/moderate           N         Yes  \n",
       "4              low        A/SA          No  "
      ]
     },
     "execution_count": 320,
     "metadata": {},
     "output_type": "execute_result"
    }
   ],
   "source": [
    "df_demog=pd.read_csv(\"df_demog_py.csv\")\n",
    "df_demog.head()"
   ]
  },
  {
   "cell_type": "code",
   "execution_count": 321,
   "id": "a572ddb7",
   "metadata": {},
   "outputs": [
    {
     "data": {
      "text/plain": [
       "(4492, 8)"
      ]
     },
     "execution_count": 321,
     "metadata": {},
     "output_type": "execute_result"
    }
   ],
   "source": [
    "df_demog.shape"
   ]
  },
  {
   "cell_type": "code",
   "execution_count": 322,
   "id": "21509929",
   "metadata": {
    "scrolled": true
   },
   "outputs": [
    {
     "data": {
      "text/html": [
       "<div>\n",
       "<style scoped>\n",
       "    .dataframe tbody tr th:only-of-type {\n",
       "        vertical-align: middle;\n",
       "    }\n",
       "\n",
       "    .dataframe tbody tr th {\n",
       "        vertical-align: top;\n",
       "    }\n",
       "\n",
       "    .dataframe thead th {\n",
       "        text-align: right;\n",
       "    }\n",
       "</style>\n",
       "<table border=\"1\" class=\"dataframe\">\n",
       "  <thead>\n",
       "    <tr style=\"text-align: right;\">\n",
       "      <th></th>\n",
       "      <th>gender</th>\n",
       "      <th>university</th>\n",
       "      <th>living_zone</th>\n",
       "      <th>grade_merged</th>\n",
       "      <th>knowledge_merged</th>\n",
       "      <th>tech_merged</th>\n",
       "      <th>ai_training</th>\n",
       "    </tr>\n",
       "  </thead>\n",
       "  <tbody>\n",
       "    <tr>\n",
       "      <th>0</th>\n",
       "      <td>Male</td>\n",
       "      <td>Private</td>\n",
       "      <td>Urban</td>\n",
       "      <td>Academic years</td>\n",
       "      <td>low</td>\n",
       "      <td>N</td>\n",
       "      <td>No</td>\n",
       "    </tr>\n",
       "    <tr>\n",
       "      <th>1</th>\n",
       "      <td>Female</td>\n",
       "      <td>Governnmental</td>\n",
       "      <td>Urban</td>\n",
       "      <td>Clinical Years</td>\n",
       "      <td>low</td>\n",
       "      <td>N</td>\n",
       "      <td>No</td>\n",
       "    </tr>\n",
       "    <tr>\n",
       "      <th>2</th>\n",
       "      <td>Female</td>\n",
       "      <td>Governnmental</td>\n",
       "      <td>Urban</td>\n",
       "      <td>Clinical Years</td>\n",
       "      <td>low</td>\n",
       "      <td>A/SA</td>\n",
       "      <td>No</td>\n",
       "    </tr>\n",
       "    <tr>\n",
       "      <th>3</th>\n",
       "      <td>Male</td>\n",
       "      <td>Governnmental</td>\n",
       "      <td>Rural</td>\n",
       "      <td>Clinical Years</td>\n",
       "      <td>high/moderate</td>\n",
       "      <td>N</td>\n",
       "      <td>Yes</td>\n",
       "    </tr>\n",
       "    <tr>\n",
       "      <th>4</th>\n",
       "      <td>Male</td>\n",
       "      <td>Governnmental</td>\n",
       "      <td>Urban</td>\n",
       "      <td>Clinical Years</td>\n",
       "      <td>low</td>\n",
       "      <td>A/SA</td>\n",
       "      <td>No</td>\n",
       "    </tr>\n",
       "  </tbody>\n",
       "</table>\n",
       "</div>"
      ],
      "text/plain": [
       "   gender     university living_zone    grade_merged knowledge_merged  \\\n",
       "0    Male        Private       Urban  Academic years              low   \n",
       "1  Female  Governnmental       Urban  Clinical Years              low   \n",
       "2  Female  Governnmental       Urban  Clinical Years              low   \n",
       "3    Male  Governnmental       Rural  Clinical Years    high/moderate   \n",
       "4    Male  Governnmental       Urban  Clinical Years              low   \n",
       "\n",
       "  tech_merged ai_training  \n",
       "0           N          No  \n",
       "1           N          No  \n",
       "2        A/SA          No  \n",
       "3           N         Yes  \n",
       "4        A/SA          No  "
      ]
     },
     "execution_count": 322,
     "metadata": {},
     "output_type": "execute_result"
    }
   ],
   "source": [
    "df_demog=df_demog.iloc[:,1:8]\n",
    "df_demog.head()"
   ]
  },
  {
   "cell_type": "code",
   "execution_count": 330,
   "id": "783485bb",
   "metadata": {
    "scrolled": true
   },
   "outputs": [],
   "source": [
    "df_demog[\"ai_training\"]=pd.Categorical(df_demog[\"ai_training\"], categories=[\"Yes\",\"No\"],ordered=True )"
   ]
  },
  {
   "cell_type": "code",
   "execution_count": 331,
   "id": "512d80b5",
   "metadata": {},
   "outputs": [
    {
     "data": {
      "text/plain": [
       "No     4152\n",
       "Yes     340\n",
       "Name: ai_training, dtype: int64"
      ]
     },
     "execution_count": 331,
     "metadata": {},
     "output_type": "execute_result"
    }
   ],
   "source": [
    "df_demog.ai_training.value_counts()#it didn't work"
   ]
  },
  {
   "cell_type": "markdown",
   "id": "a4f5d551",
   "metadata": {},
   "source": [
    "## knowledge section"
   ]
  },
  {
   "cell_type": "markdown",
   "id": "478e1355",
   "metadata": {},
   "source": [
    "## one hot encoding (dummies)"
   ]
  },
  {
   "cell_type": "code",
   "execution_count": 237,
   "id": "ecce7562",
   "metadata": {},
   "outputs": [],
   "source": [
    "df_knowledge=df[['X7.I.have.an.understanding.of.the.basic.computational.principles.of.artificial.intelligence..AI.',\n",
    "       'X8.I.am.comfortable.with.the.nomenclature.related.to.artificial.intelligence',\n",
    "       'X9.I.have.an.understanding.of.the.limitations.of.artificial.intelligence',\n",
    "       'X10.Deep.Learning..and..Artificial.Intelligence..are.currently.being.broadly.discussed.in.the.radiological.community...Were.you.already.aware.of.these.topics.in.radiology..',\n",
    "       'X11.Deep.Learning..and..Artificial.Intelligence..are.currently.being.broadly.discussed.in.the.radiological.community...Do.you.personally.have.a.basic.understanding.of.the.technologies.used.in.these.topics..',\n",
    "       'X13.The.following.questions.test.your.understanding.of.deep.learning..a.subtype.of.artificial.intelligence....Deep.learning.is.a.class.of.machine.learning.algorithms.that.use.multiple.layers.of.neural.networks..',\n",
    "       'X14.The.following.questions.test.your.understanding.of.deep.learning..a.subtype.of.artificial.intelligence....Deep.learning.methods.learn.directly.from.data..without.the.need.for.manual.feature.extraction..',\n",
    "       'X15.The.following.questions.test.your.understanding.of.deep.learning..a.subtype.of.artificial.intelligence....Application.of.deep.learning.in.radiology.requires.large.databases.of.labeled.medical.images..',\n",
    "       'X16.The.following.questions.test.your.understanding.of.deep.learning..a.subtype.of.artificial.intelligence....Deep.learning.systems.are.often.opaque..it.can.be.difficult.to.delineate.the.underlying..thought.process...',\n",
    "       ]]"
   ]
  },
  {
   "cell_type": "code",
   "execution_count": 238,
   "id": "2f11cf38",
   "metadata": {},
   "outputs": [
    {
     "data": {
      "text/plain": [
       "(4492, 9)"
      ]
     },
     "execution_count": 238,
     "metadata": {},
     "output_type": "execute_result"
    }
   ],
   "source": [
    "df_knowledge.shape"
   ]
  },
  {
   "cell_type": "code",
   "execution_count": 239,
   "id": "f8fab2c9",
   "metadata": {},
   "outputs": [
    {
     "data": {
      "text/plain": [
       "int64    9\n",
       "dtype: int64"
      ]
     },
     "execution_count": 239,
     "metadata": {},
     "output_type": "execute_result"
    }
   ],
   "source": [
    "df_knowledge.dtypes.value_counts()"
   ]
  },
  {
   "cell_type": "code",
   "execution_count": 240,
   "id": "ed619de9",
   "metadata": {},
   "outputs": [],
   "source": [
    "from sklearn.cluster import KMeans\n",
    "from sklearn.preprocessing import StandardScaler, LabelEncoder"
   ]
  },
  {
   "cell_type": "code",
   "execution_count": 241,
   "id": "000937a4",
   "metadata": {
    "scrolled": false
   },
   "outputs": [
    {
     "data": {
      "text/html": [
       "<div>\n",
       "<style scoped>\n",
       "    .dataframe tbody tr th:only-of-type {\n",
       "        vertical-align: middle;\n",
       "    }\n",
       "\n",
       "    .dataframe tbody tr th {\n",
       "        vertical-align: top;\n",
       "    }\n",
       "\n",
       "    .dataframe thead th {\n",
       "        text-align: right;\n",
       "    }\n",
       "</style>\n",
       "<table border=\"1\" class=\"dataframe\">\n",
       "  <thead>\n",
       "    <tr style=\"text-align: right;\">\n",
       "      <th></th>\n",
       "      <th>X7.I.have.an.understanding.of.the.basic.computational.principles.of.artificial.intelligence..AI.</th>\n",
       "      <th>X8.I.am.comfortable.with.the.nomenclature.related.to.artificial.intelligence</th>\n",
       "      <th>X9.I.have.an.understanding.of.the.limitations.of.artificial.intelligence</th>\n",
       "      <th>X10.Deep.Learning..and..Artificial.Intelligence..are.currently.being.broadly.discussed.in.the.radiological.community...Were.you.already.aware.of.these.topics.in.radiology..</th>\n",
       "      <th>X11.Deep.Learning..and..Artificial.Intelligence..are.currently.being.broadly.discussed.in.the.radiological.community...Do.you.personally.have.a.basic.understanding.of.the.technologies.used.in.these.topics..</th>\n",
       "      <th>X13.The.following.questions.test.your.understanding.of.deep.learning..a.subtype.of.artificial.intelligence....Deep.learning.is.a.class.of.machine.learning.algorithms.that.use.multiple.layers.of.neural.networks..</th>\n",
       "      <th>X14.The.following.questions.test.your.understanding.of.deep.learning..a.subtype.of.artificial.intelligence....Deep.learning.methods.learn.directly.from.data..without.the.need.for.manual.feature.extraction..</th>\n",
       "      <th>X15.The.following.questions.test.your.understanding.of.deep.learning..a.subtype.of.artificial.intelligence....Application.of.deep.learning.in.radiology.requires.large.databases.of.labeled.medical.images..</th>\n",
       "      <th>X16.The.following.questions.test.your.understanding.of.deep.learning..a.subtype.of.artificial.intelligence....Deep.learning.systems.are.often.opaque..it.can.be.difficult.to.delineate.the.underlying..thought.process...</th>\n",
       "    </tr>\n",
       "  </thead>\n",
       "  <tbody>\n",
       "    <tr>\n",
       "      <th>count</th>\n",
       "      <td>4492.000000</td>\n",
       "      <td>4492.000000</td>\n",
       "      <td>4492.000000</td>\n",
       "      <td>4492.000000</td>\n",
       "      <td>4492.000000</td>\n",
       "      <td>4492.000000</td>\n",
       "      <td>4492.000000</td>\n",
       "      <td>4492.000000</td>\n",
       "      <td>4492.00000</td>\n",
       "    </tr>\n",
       "    <tr>\n",
       "      <th>mean</th>\n",
       "      <td>2.621995</td>\n",
       "      <td>2.325022</td>\n",
       "      <td>1.989982</td>\n",
       "      <td>0.345058</td>\n",
       "      <td>0.168522</td>\n",
       "      <td>6.118433</td>\n",
       "      <td>5.790739</td>\n",
       "      <td>5.156278</td>\n",
       "      <td>5.94390</td>\n",
       "    </tr>\n",
       "    <tr>\n",
       "      <th>std</th>\n",
       "      <td>3.914249</td>\n",
       "      <td>3.774820</td>\n",
       "      <td>3.563545</td>\n",
       "      <td>0.475440</td>\n",
       "      <td>0.374371</td>\n",
       "      <td>3.894769</td>\n",
       "      <td>4.151852</td>\n",
       "      <td>4.049688</td>\n",
       "      <td>4.02126</td>\n",
       "    </tr>\n",
       "    <tr>\n",
       "      <th>min</th>\n",
       "      <td>0.000000</td>\n",
       "      <td>0.000000</td>\n",
       "      <td>0.000000</td>\n",
       "      <td>0.000000</td>\n",
       "      <td>0.000000</td>\n",
       "      <td>0.000000</td>\n",
       "      <td>0.000000</td>\n",
       "      <td>0.000000</td>\n",
       "      <td>0.00000</td>\n",
       "    </tr>\n",
       "    <tr>\n",
       "      <th>25%</th>\n",
       "      <td>0.000000</td>\n",
       "      <td>0.000000</td>\n",
       "      <td>0.000000</td>\n",
       "      <td>0.000000</td>\n",
       "      <td>0.000000</td>\n",
       "      <td>1.000000</td>\n",
       "      <td>1.000000</td>\n",
       "      <td>1.000000</td>\n",
       "      <td>1.00000</td>\n",
       "    </tr>\n",
       "    <tr>\n",
       "      <th>50%</th>\n",
       "      <td>0.000000</td>\n",
       "      <td>0.000000</td>\n",
       "      <td>0.000000</td>\n",
       "      <td>0.000000</td>\n",
       "      <td>0.000000</td>\n",
       "      <td>9.000000</td>\n",
       "      <td>9.000000</td>\n",
       "      <td>9.000000</td>\n",
       "      <td>9.00000</td>\n",
       "    </tr>\n",
       "    <tr>\n",
       "      <th>75%</th>\n",
       "      <td>9.000000</td>\n",
       "      <td>1.000000</td>\n",
       "      <td>1.000000</td>\n",
       "      <td>1.000000</td>\n",
       "      <td>0.000000</td>\n",
       "      <td>9.000000</td>\n",
       "      <td>9.000000</td>\n",
       "      <td>9.000000</td>\n",
       "      <td>9.00000</td>\n",
       "    </tr>\n",
       "    <tr>\n",
       "      <th>max</th>\n",
       "      <td>9.000000</td>\n",
       "      <td>9.000000</td>\n",
       "      <td>9.000000</td>\n",
       "      <td>1.000000</td>\n",
       "      <td>1.000000</td>\n",
       "      <td>9.000000</td>\n",
       "      <td>9.000000</td>\n",
       "      <td>9.000000</td>\n",
       "      <td>9.00000</td>\n",
       "    </tr>\n",
       "  </tbody>\n",
       "</table>\n",
       "</div>"
      ],
      "text/plain": [
       "       X7.I.have.an.understanding.of.the.basic.computational.principles.of.artificial.intelligence..AI.  \\\n",
       "count                                        4492.000000                                                  \n",
       "mean                                            2.621995                                                  \n",
       "std                                             3.914249                                                  \n",
       "min                                             0.000000                                                  \n",
       "25%                                             0.000000                                                  \n",
       "50%                                             0.000000                                                  \n",
       "75%                                             9.000000                                                  \n",
       "max                                             9.000000                                                  \n",
       "\n",
       "       X8.I.am.comfortable.with.the.nomenclature.related.to.artificial.intelligence  \\\n",
       "count                                        4492.000000                              \n",
       "mean                                            2.325022                              \n",
       "std                                             3.774820                              \n",
       "min                                             0.000000                              \n",
       "25%                                             0.000000                              \n",
       "50%                                             0.000000                              \n",
       "75%                                             1.000000                              \n",
       "max                                             9.000000                              \n",
       "\n",
       "       X9.I.have.an.understanding.of.the.limitations.of.artificial.intelligence  \\\n",
       "count                                        4492.000000                          \n",
       "mean                                            1.989982                          \n",
       "std                                             3.563545                          \n",
       "min                                             0.000000                          \n",
       "25%                                             0.000000                          \n",
       "50%                                             0.000000                          \n",
       "75%                                             1.000000                          \n",
       "max                                             9.000000                          \n",
       "\n",
       "       X10.Deep.Learning..and..Artificial.Intelligence..are.currently.being.broadly.discussed.in.the.radiological.community...Were.you.already.aware.of.these.topics.in.radiology..  \\\n",
       "count                                        4492.000000                                                                                                                              \n",
       "mean                                            0.345058                                                                                                                              \n",
       "std                                             0.475440                                                                                                                              \n",
       "min                                             0.000000                                                                                                                              \n",
       "25%                                             0.000000                                                                                                                              \n",
       "50%                                             0.000000                                                                                                                              \n",
       "75%                                             1.000000                                                                                                                              \n",
       "max                                             1.000000                                                                                                                              \n",
       "\n",
       "       X11.Deep.Learning..and..Artificial.Intelligence..are.currently.being.broadly.discussed.in.the.radiological.community...Do.you.personally.have.a.basic.understanding.of.the.technologies.used.in.these.topics..  \\\n",
       "count                                        4492.000000                                                                                                                                                                \n",
       "mean                                            0.168522                                                                                                                                                                \n",
       "std                                             0.374371                                                                                                                                                                \n",
       "min                                             0.000000                                                                                                                                                                \n",
       "25%                                             0.000000                                                                                                                                                                \n",
       "50%                                             0.000000                                                                                                                                                                \n",
       "75%                                             0.000000                                                                                                                                                                \n",
       "max                                             1.000000                                                                                                                                                                \n",
       "\n",
       "       X13.The.following.questions.test.your.understanding.of.deep.learning..a.subtype.of.artificial.intelligence....Deep.learning.is.a.class.of.machine.learning.algorithms.that.use.multiple.layers.of.neural.networks..  \\\n",
       "count                                        4492.000000                                                                                                                                                                     \n",
       "mean                                            6.118433                                                                                                                                                                     \n",
       "std                                             3.894769                                                                                                                                                                     \n",
       "min                                             0.000000                                                                                                                                                                     \n",
       "25%                                             1.000000                                                                                                                                                                     \n",
       "50%                                             9.000000                                                                                                                                                                     \n",
       "75%                                             9.000000                                                                                                                                                                     \n",
       "max                                             9.000000                                                                                                                                                                     \n",
       "\n",
       "       X14.The.following.questions.test.your.understanding.of.deep.learning..a.subtype.of.artificial.intelligence....Deep.learning.methods.learn.directly.from.data..without.the.need.for.manual.feature.extraction..  \\\n",
       "count                                        4492.000000                                                                                                                                                                \n",
       "mean                                            5.790739                                                                                                                                                                \n",
       "std                                             4.151852                                                                                                                                                                \n",
       "min                                             0.000000                                                                                                                                                                \n",
       "25%                                             1.000000                                                                                                                                                                \n",
       "50%                                             9.000000                                                                                                                                                                \n",
       "75%                                             9.000000                                                                                                                                                                \n",
       "max                                             9.000000                                                                                                                                                                \n",
       "\n",
       "       X15.The.following.questions.test.your.understanding.of.deep.learning..a.subtype.of.artificial.intelligence....Application.of.deep.learning.in.radiology.requires.large.databases.of.labeled.medical.images..  \\\n",
       "count                                        4492.000000                                                                                                                                                              \n",
       "mean                                            5.156278                                                                                                                                                              \n",
       "std                                             4.049688                                                                                                                                                              \n",
       "min                                             0.000000                                                                                                                                                              \n",
       "25%                                             1.000000                                                                                                                                                              \n",
       "50%                                             9.000000                                                                                                                                                              \n",
       "75%                                             9.000000                                                                                                                                                              \n",
       "max                                             9.000000                                                                                                                                                              \n",
       "\n",
       "       X16.The.following.questions.test.your.understanding.of.deep.learning..a.subtype.of.artificial.intelligence....Deep.learning.systems.are.often.opaque..it.can.be.difficult.to.delineate.the.underlying..thought.process...  \n",
       "count                                         4492.00000                                                                                                                                                                          \n",
       "mean                                             5.94390                                                                                                                                                                          \n",
       "std                                              4.02126                                                                                                                                                                          \n",
       "min                                              0.00000                                                                                                                                                                          \n",
       "25%                                              1.00000                                                                                                                                                                          \n",
       "50%                                              9.00000                                                                                                                                                                          \n",
       "75%                                              9.00000                                                                                                                                                                          \n",
       "max                                              9.00000                                                                                                                                                                          "
      ]
     },
     "execution_count": 241,
     "metadata": {},
     "output_type": "execute_result"
    }
   ],
   "source": [
    "df_knowledge.describe()"
   ]
  },
  {
   "cell_type": "code",
   "execution_count": 242,
   "id": "f77e7ede",
   "metadata": {},
   "outputs": [],
   "source": [
    "df_knowledge=df_knowledge.astype(object)"
   ]
  },
  {
   "cell_type": "code",
   "execution_count": 243,
   "id": "47f33855",
   "metadata": {},
   "outputs": [
    {
     "name": "stderr",
     "output_type": "stream",
     "text": [
      "/tmp/ipykernel_25075/2952802073.py:1: FutureWarning: In a future version, the Index constructor will not infer numeric dtypes when passed object-dtype sequences (matching Series behavior)\n",
      "  df_knowledge_dummies=pd.get_dummies(df_knowledge)\n",
      "/tmp/ipykernel_25075/2952802073.py:1: FutureWarning: In a future version, the Index constructor will not infer numeric dtypes when passed object-dtype sequences (matching Series behavior)\n",
      "  df_knowledge_dummies=pd.get_dummies(df_knowledge)\n",
      "/tmp/ipykernel_25075/2952802073.py:1: FutureWarning: In a future version, the Index constructor will not infer numeric dtypes when passed object-dtype sequences (matching Series behavior)\n",
      "  df_knowledge_dummies=pd.get_dummies(df_knowledge)\n",
      "/tmp/ipykernel_25075/2952802073.py:1: FutureWarning: In a future version, the Index constructor will not infer numeric dtypes when passed object-dtype sequences (matching Series behavior)\n",
      "  df_knowledge_dummies=pd.get_dummies(df_knowledge)\n",
      "/tmp/ipykernel_25075/2952802073.py:1: FutureWarning: In a future version, the Index constructor will not infer numeric dtypes when passed object-dtype sequences (matching Series behavior)\n",
      "  df_knowledge_dummies=pd.get_dummies(df_knowledge)\n",
      "/tmp/ipykernel_25075/2952802073.py:1: FutureWarning: In a future version, the Index constructor will not infer numeric dtypes when passed object-dtype sequences (matching Series behavior)\n",
      "  df_knowledge_dummies=pd.get_dummies(df_knowledge)\n",
      "/tmp/ipykernel_25075/2952802073.py:1: FutureWarning: In a future version, the Index constructor will not infer numeric dtypes when passed object-dtype sequences (matching Series behavior)\n",
      "  df_knowledge_dummies=pd.get_dummies(df_knowledge)\n",
      "/tmp/ipykernel_25075/2952802073.py:1: FutureWarning: In a future version, the Index constructor will not infer numeric dtypes when passed object-dtype sequences (matching Series behavior)\n",
      "  df_knowledge_dummies=pd.get_dummies(df_knowledge)\n",
      "/tmp/ipykernel_25075/2952802073.py:1: FutureWarning: In a future version, the Index constructor will not infer numeric dtypes when passed object-dtype sequences (matching Series behavior)\n",
      "  df_knowledge_dummies=pd.get_dummies(df_knowledge)\n"
     ]
    }
   ],
   "source": [
    "df_knowledge_dummies=pd.get_dummies(df_knowledge)"
   ]
  },
  {
   "cell_type": "code",
   "execution_count": 244,
   "id": "09b179da",
   "metadata": {},
   "outputs": [
    {
     "data": {
      "text/plain": [
       "(4492, 25)"
      ]
     },
     "execution_count": 244,
     "metadata": {},
     "output_type": "execute_result"
    }
   ],
   "source": [
    "df_knowledge_dummies.shape"
   ]
  },
  {
   "cell_type": "code",
   "execution_count": 245,
   "id": "393fb04e",
   "metadata": {
    "scrolled": true
   },
   "outputs": [
    {
     "data": {
      "text/html": [
       "<div>\n",
       "<style scoped>\n",
       "    .dataframe tbody tr th:only-of-type {\n",
       "        vertical-align: middle;\n",
       "    }\n",
       "\n",
       "    .dataframe tbody tr th {\n",
       "        vertical-align: top;\n",
       "    }\n",
       "\n",
       "    .dataframe thead th {\n",
       "        text-align: right;\n",
       "    }\n",
       "</style>\n",
       "<table border=\"1\" class=\"dataframe\">\n",
       "  <thead>\n",
       "    <tr style=\"text-align: right;\">\n",
       "      <th></th>\n",
       "      <th>X7.I.have.an.understanding.of.the.basic.computational.principles.of.artificial.intelligence..AI._0</th>\n",
       "      <th>X7.I.have.an.understanding.of.the.basic.computational.principles.of.artificial.intelligence..AI._1</th>\n",
       "      <th>X7.I.have.an.understanding.of.the.basic.computational.principles.of.artificial.intelligence..AI._9</th>\n",
       "      <th>X8.I.am.comfortable.with.the.nomenclature.related.to.artificial.intelligence_0</th>\n",
       "      <th>X8.I.am.comfortable.with.the.nomenclature.related.to.artificial.intelligence_1</th>\n",
       "      <th>X8.I.am.comfortable.with.the.nomenclature.related.to.artificial.intelligence_9</th>\n",
       "      <th>X9.I.have.an.understanding.of.the.limitations.of.artificial.intelligence_0</th>\n",
       "      <th>X9.I.have.an.understanding.of.the.limitations.of.artificial.intelligence_1</th>\n",
       "      <th>X9.I.have.an.understanding.of.the.limitations.of.artificial.intelligence_9</th>\n",
       "      <th>X10.Deep.Learning..and..Artificial.Intelligence..are.currently.being.broadly.discussed.in.the.radiological.community...Were.you.already.aware.of.these.topics.in.radiology.._0</th>\n",
       "      <th>...</th>\n",
       "      <th>X13.The.following.questions.test.your.understanding.of.deep.learning..a.subtype.of.artificial.intelligence....Deep.learning.is.a.class.of.machine.learning.algorithms.that.use.multiple.layers.of.neural.networks.._9</th>\n",
       "      <th>X14.The.following.questions.test.your.understanding.of.deep.learning..a.subtype.of.artificial.intelligence....Deep.learning.methods.learn.directly.from.data..without.the.need.for.manual.feature.extraction.._0</th>\n",
       "      <th>X14.The.following.questions.test.your.understanding.of.deep.learning..a.subtype.of.artificial.intelligence....Deep.learning.methods.learn.directly.from.data..without.the.need.for.manual.feature.extraction.._1</th>\n",
       "      <th>X14.The.following.questions.test.your.understanding.of.deep.learning..a.subtype.of.artificial.intelligence....Deep.learning.methods.learn.directly.from.data..without.the.need.for.manual.feature.extraction.._9</th>\n",
       "      <th>X15.The.following.questions.test.your.understanding.of.deep.learning..a.subtype.of.artificial.intelligence....Application.of.deep.learning.in.radiology.requires.large.databases.of.labeled.medical.images.._0</th>\n",
       "      <th>X15.The.following.questions.test.your.understanding.of.deep.learning..a.subtype.of.artificial.intelligence....Application.of.deep.learning.in.radiology.requires.large.databases.of.labeled.medical.images.._1</th>\n",
       "      <th>X15.The.following.questions.test.your.understanding.of.deep.learning..a.subtype.of.artificial.intelligence....Application.of.deep.learning.in.radiology.requires.large.databases.of.labeled.medical.images.._9</th>\n",
       "      <th>X16.The.following.questions.test.your.understanding.of.deep.learning..a.subtype.of.artificial.intelligence....Deep.learning.systems.are.often.opaque..it.can.be.difficult.to.delineate.the.underlying..thought.process..._0</th>\n",
       "      <th>X16.The.following.questions.test.your.understanding.of.deep.learning..a.subtype.of.artificial.intelligence....Deep.learning.systems.are.often.opaque..it.can.be.difficult.to.delineate.the.underlying..thought.process..._1</th>\n",
       "      <th>X16.The.following.questions.test.your.understanding.of.deep.learning..a.subtype.of.artificial.intelligence....Deep.learning.systems.are.often.opaque..it.can.be.difficult.to.delineate.the.underlying..thought.process..._9</th>\n",
       "    </tr>\n",
       "  </thead>\n",
       "  <tbody>\n",
       "    <tr>\n",
       "      <th>0</th>\n",
       "      <td>0</td>\n",
       "      <td>1</td>\n",
       "      <td>0</td>\n",
       "      <td>0</td>\n",
       "      <td>0</td>\n",
       "      <td>1</td>\n",
       "      <td>0</td>\n",
       "      <td>1</td>\n",
       "      <td>0</td>\n",
       "      <td>1</td>\n",
       "      <td>...</td>\n",
       "      <td>1</td>\n",
       "      <td>0</td>\n",
       "      <td>0</td>\n",
       "      <td>1</td>\n",
       "      <td>0</td>\n",
       "      <td>1</td>\n",
       "      <td>0</td>\n",
       "      <td>0</td>\n",
       "      <td>0</td>\n",
       "      <td>1</td>\n",
       "    </tr>\n",
       "    <tr>\n",
       "      <th>1</th>\n",
       "      <td>0</td>\n",
       "      <td>0</td>\n",
       "      <td>1</td>\n",
       "      <td>0</td>\n",
       "      <td>0</td>\n",
       "      <td>1</td>\n",
       "      <td>0</td>\n",
       "      <td>0</td>\n",
       "      <td>1</td>\n",
       "      <td>1</td>\n",
       "      <td>...</td>\n",
       "      <td>0</td>\n",
       "      <td>0</td>\n",
       "      <td>0</td>\n",
       "      <td>1</td>\n",
       "      <td>0</td>\n",
       "      <td>1</td>\n",
       "      <td>0</td>\n",
       "      <td>0</td>\n",
       "      <td>0</td>\n",
       "      <td>1</td>\n",
       "    </tr>\n",
       "    <tr>\n",
       "      <th>2</th>\n",
       "      <td>0</td>\n",
       "      <td>0</td>\n",
       "      <td>1</td>\n",
       "      <td>0</td>\n",
       "      <td>1</td>\n",
       "      <td>0</td>\n",
       "      <td>0</td>\n",
       "      <td>0</td>\n",
       "      <td>1</td>\n",
       "      <td>0</td>\n",
       "      <td>...</td>\n",
       "      <td>0</td>\n",
       "      <td>0</td>\n",
       "      <td>0</td>\n",
       "      <td>1</td>\n",
       "      <td>0</td>\n",
       "      <td>1</td>\n",
       "      <td>0</td>\n",
       "      <td>0</td>\n",
       "      <td>0</td>\n",
       "      <td>1</td>\n",
       "    </tr>\n",
       "    <tr>\n",
       "      <th>3</th>\n",
       "      <td>1</td>\n",
       "      <td>0</td>\n",
       "      <td>0</td>\n",
       "      <td>1</td>\n",
       "      <td>0</td>\n",
       "      <td>0</td>\n",
       "      <td>1</td>\n",
       "      <td>0</td>\n",
       "      <td>0</td>\n",
       "      <td>0</td>\n",
       "      <td>...</td>\n",
       "      <td>0</td>\n",
       "      <td>0</td>\n",
       "      <td>1</td>\n",
       "      <td>0</td>\n",
       "      <td>0</td>\n",
       "      <td>1</td>\n",
       "      <td>0</td>\n",
       "      <td>0</td>\n",
       "      <td>1</td>\n",
       "      <td>0</td>\n",
       "    </tr>\n",
       "    <tr>\n",
       "      <th>4</th>\n",
       "      <td>1</td>\n",
       "      <td>0</td>\n",
       "      <td>0</td>\n",
       "      <td>0</td>\n",
       "      <td>0</td>\n",
       "      <td>1</td>\n",
       "      <td>0</td>\n",
       "      <td>1</td>\n",
       "      <td>0</td>\n",
       "      <td>1</td>\n",
       "      <td>...</td>\n",
       "      <td>0</td>\n",
       "      <td>0</td>\n",
       "      <td>1</td>\n",
       "      <td>0</td>\n",
       "      <td>0</td>\n",
       "      <td>0</td>\n",
       "      <td>1</td>\n",
       "      <td>0</td>\n",
       "      <td>0</td>\n",
       "      <td>1</td>\n",
       "    </tr>\n",
       "  </tbody>\n",
       "</table>\n",
       "<p>5 rows × 25 columns</p>\n",
       "</div>"
      ],
      "text/plain": [
       "   X7.I.have.an.understanding.of.the.basic.computational.principles.of.artificial.intelligence..AI._0  \\\n",
       "0                                                  0                                                    \n",
       "1                                                  0                                                    \n",
       "2                                                  0                                                    \n",
       "3                                                  1                                                    \n",
       "4                                                  1                                                    \n",
       "\n",
       "   X7.I.have.an.understanding.of.the.basic.computational.principles.of.artificial.intelligence..AI._1  \\\n",
       "0                                                  1                                                    \n",
       "1                                                  0                                                    \n",
       "2                                                  0                                                    \n",
       "3                                                  0                                                    \n",
       "4                                                  0                                                    \n",
       "\n",
       "   X7.I.have.an.understanding.of.the.basic.computational.principles.of.artificial.intelligence..AI._9  \\\n",
       "0                                                  0                                                    \n",
       "1                                                  1                                                    \n",
       "2                                                  1                                                    \n",
       "3                                                  0                                                    \n",
       "4                                                  0                                                    \n",
       "\n",
       "   X8.I.am.comfortable.with.the.nomenclature.related.to.artificial.intelligence_0  \\\n",
       "0                                                  0                                \n",
       "1                                                  0                                \n",
       "2                                                  0                                \n",
       "3                                                  1                                \n",
       "4                                                  0                                \n",
       "\n",
       "   X8.I.am.comfortable.with.the.nomenclature.related.to.artificial.intelligence_1  \\\n",
       "0                                                  0                                \n",
       "1                                                  0                                \n",
       "2                                                  1                                \n",
       "3                                                  0                                \n",
       "4                                                  0                                \n",
       "\n",
       "   X8.I.am.comfortable.with.the.nomenclature.related.to.artificial.intelligence_9  \\\n",
       "0                                                  1                                \n",
       "1                                                  1                                \n",
       "2                                                  0                                \n",
       "3                                                  0                                \n",
       "4                                                  1                                \n",
       "\n",
       "   X9.I.have.an.understanding.of.the.limitations.of.artificial.intelligence_0  \\\n",
       "0                                                  0                            \n",
       "1                                                  0                            \n",
       "2                                                  0                            \n",
       "3                                                  1                            \n",
       "4                                                  0                            \n",
       "\n",
       "   X9.I.have.an.understanding.of.the.limitations.of.artificial.intelligence_1  \\\n",
       "0                                                  1                            \n",
       "1                                                  0                            \n",
       "2                                                  0                            \n",
       "3                                                  0                            \n",
       "4                                                  1                            \n",
       "\n",
       "   X9.I.have.an.understanding.of.the.limitations.of.artificial.intelligence_9  \\\n",
       "0                                                  0                            \n",
       "1                                                  1                            \n",
       "2                                                  1                            \n",
       "3                                                  0                            \n",
       "4                                                  0                            \n",
       "\n",
       "   X10.Deep.Learning..and..Artificial.Intelligence..are.currently.being.broadly.discussed.in.the.radiological.community...Were.you.already.aware.of.these.topics.in.radiology.._0  \\\n",
       "0                                                  1                                                                                                                                \n",
       "1                                                  1                                                                                                                                \n",
       "2                                                  0                                                                                                                                \n",
       "3                                                  0                                                                                                                                \n",
       "4                                                  1                                                                                                                                \n",
       "\n",
       "   ...  \\\n",
       "0  ...   \n",
       "1  ...   \n",
       "2  ...   \n",
       "3  ...   \n",
       "4  ...   \n",
       "\n",
       "   X13.The.following.questions.test.your.understanding.of.deep.learning..a.subtype.of.artificial.intelligence....Deep.learning.is.a.class.of.machine.learning.algorithms.that.use.multiple.layers.of.neural.networks.._9  \\\n",
       "0                                                  1                                                                                                                                                                       \n",
       "1                                                  0                                                                                                                                                                       \n",
       "2                                                  0                                                                                                                                                                       \n",
       "3                                                  0                                                                                                                                                                       \n",
       "4                                                  0                                                                                                                                                                       \n",
       "\n",
       "   X14.The.following.questions.test.your.understanding.of.deep.learning..a.subtype.of.artificial.intelligence....Deep.learning.methods.learn.directly.from.data..without.the.need.for.manual.feature.extraction.._0  \\\n",
       "0                                                  0                                                                                                                                                                  \n",
       "1                                                  0                                                                                                                                                                  \n",
       "2                                                  0                                                                                                                                                                  \n",
       "3                                                  0                                                                                                                                                                  \n",
       "4                                                  0                                                                                                                                                                  \n",
       "\n",
       "   X14.The.following.questions.test.your.understanding.of.deep.learning..a.subtype.of.artificial.intelligence....Deep.learning.methods.learn.directly.from.data..without.the.need.for.manual.feature.extraction.._1  \\\n",
       "0                                                  0                                                                                                                                                                  \n",
       "1                                                  0                                                                                                                                                                  \n",
       "2                                                  0                                                                                                                                                                  \n",
       "3                                                  1                                                                                                                                                                  \n",
       "4                                                  1                                                                                                                                                                  \n",
       "\n",
       "   X14.The.following.questions.test.your.understanding.of.deep.learning..a.subtype.of.artificial.intelligence....Deep.learning.methods.learn.directly.from.data..without.the.need.for.manual.feature.extraction.._9  \\\n",
       "0                                                  1                                                                                                                                                                  \n",
       "1                                                  1                                                                                                                                                                  \n",
       "2                                                  1                                                                                                                                                                  \n",
       "3                                                  0                                                                                                                                                                  \n",
       "4                                                  0                                                                                                                                                                  \n",
       "\n",
       "   X15.The.following.questions.test.your.understanding.of.deep.learning..a.subtype.of.artificial.intelligence....Application.of.deep.learning.in.radiology.requires.large.databases.of.labeled.medical.images.._0  \\\n",
       "0                                                  0                                                                                                                                                                \n",
       "1                                                  0                                                                                                                                                                \n",
       "2                                                  0                                                                                                                                                                \n",
       "3                                                  0                                                                                                                                                                \n",
       "4                                                  0                                                                                                                                                                \n",
       "\n",
       "   X15.The.following.questions.test.your.understanding.of.deep.learning..a.subtype.of.artificial.intelligence....Application.of.deep.learning.in.radiology.requires.large.databases.of.labeled.medical.images.._1  \\\n",
       "0                                                  1                                                                                                                                                                \n",
       "1                                                  1                                                                                                                                                                \n",
       "2                                                  1                                                                                                                                                                \n",
       "3                                                  1                                                                                                                                                                \n",
       "4                                                  0                                                                                                                                                                \n",
       "\n",
       "   X15.The.following.questions.test.your.understanding.of.deep.learning..a.subtype.of.artificial.intelligence....Application.of.deep.learning.in.radiology.requires.large.databases.of.labeled.medical.images.._9  \\\n",
       "0                                                  0                                                                                                                                                                \n",
       "1                                                  0                                                                                                                                                                \n",
       "2                                                  0                                                                                                                                                                \n",
       "3                                                  0                                                                                                                                                                \n",
       "4                                                  1                                                                                                                                                                \n",
       "\n",
       "   X16.The.following.questions.test.your.understanding.of.deep.learning..a.subtype.of.artificial.intelligence....Deep.learning.systems.are.often.opaque..it.can.be.difficult.to.delineate.the.underlying..thought.process..._0  \\\n",
       "0                                                  0                                                                                                                                                                             \n",
       "1                                                  0                                                                                                                                                                             \n",
       "2                                                  0                                                                                                                                                                             \n",
       "3                                                  0                                                                                                                                                                             \n",
       "4                                                  0                                                                                                                                                                             \n",
       "\n",
       "   X16.The.following.questions.test.your.understanding.of.deep.learning..a.subtype.of.artificial.intelligence....Deep.learning.systems.are.often.opaque..it.can.be.difficult.to.delineate.the.underlying..thought.process..._1  \\\n",
       "0                                                  0                                                                                                                                                                             \n",
       "1                                                  0                                                                                                                                                                             \n",
       "2                                                  0                                                                                                                                                                             \n",
       "3                                                  1                                                                                                                                                                             \n",
       "4                                                  0                                                                                                                                                                             \n",
       "\n",
       "   X16.The.following.questions.test.your.understanding.of.deep.learning..a.subtype.of.artificial.intelligence....Deep.learning.systems.are.often.opaque..it.can.be.difficult.to.delineate.the.underlying..thought.process..._9  \n",
       "0                                                  1                                                                                                                                                                            \n",
       "1                                                  1                                                                                                                                                                            \n",
       "2                                                  1                                                                                                                                                                            \n",
       "3                                                  0                                                                                                                                                                            \n",
       "4                                                  1                                                                                                                                                                            \n",
       "\n",
       "[5 rows x 25 columns]"
      ]
     },
     "execution_count": 245,
     "metadata": {},
     "output_type": "execute_result"
    }
   ],
   "source": [
    "df_knowledge_dummies.head()"
   ]
  },
  {
   "cell_type": "code",
   "execution_count": 246,
   "id": "d209a0d2",
   "metadata": {
    "scrolled": false
   },
   "outputs": [
    {
     "name": "stderr",
     "output_type": "stream",
     "text": [
      "/home/tarek/.local/lib/python3.10/site-packages/sklearn/cluster/_kmeans.py:870: FutureWarning: The default value of `n_init` will change from 10 to 'auto' in 1.4. Set the value of `n_init` explicitly to suppress the warning\n",
      "  warnings.warn(\n"
     ]
    }
   ],
   "source": [
    "km_k=KMeans(n_clusters=4)\n",
    "knowledge_clust=km_k.fit(df_knowledge_dummies)"
   ]
  },
  {
   "cell_type": "code",
   "execution_count": 247,
   "id": "53b10434",
   "metadata": {},
   "outputs": [],
   "source": [
    "df_knowledge[\"km\"]=km_k.predict(df_knowledge_dummies)"
   ]
  },
  {
   "cell_type": "code",
   "execution_count": 248,
   "id": "46e1e199",
   "metadata": {},
   "outputs": [
    {
     "data": {
      "text/plain": [
       "2    0.387133\n",
       "1    0.230187\n",
       "3    0.226625\n",
       "0    0.156055\n",
       "Name: km, dtype: float64"
      ]
     },
     "execution_count": 248,
     "metadata": {},
     "output_type": "execute_result"
    }
   ],
   "source": [
    "df_knowledge.km.value_counts(normalize=True)"
   ]
  },
  {
   "cell_type": "markdown",
   "id": "7cabe04a",
   "metadata": {},
   "source": [
    "## finding the optimum k using the elbow method"
   ]
  },
  {
   "cell_type": "code",
   "execution_count": 249,
   "id": "a742e175",
   "metadata": {},
   "outputs": [
    {
     "name": "stderr",
     "output_type": "stream",
     "text": [
      "/home/tarek/.local/lib/python3.10/site-packages/sklearn/cluster/_kmeans.py:870: FutureWarning: The default value of `n_init` will change from 10 to 'auto' in 1.4. Set the value of `n_init` explicitly to suppress the warning\n",
      "  warnings.warn(\n",
      "/home/tarek/.local/lib/python3.10/site-packages/sklearn/cluster/_kmeans.py:870: FutureWarning: The default value of `n_init` will change from 10 to 'auto' in 1.4. Set the value of `n_init` explicitly to suppress the warning\n",
      "  warnings.warn(\n",
      "/home/tarek/.local/lib/python3.10/site-packages/sklearn/cluster/_kmeans.py:870: FutureWarning: The default value of `n_init` will change from 10 to 'auto' in 1.4. Set the value of `n_init` explicitly to suppress the warning\n",
      "  warnings.warn(\n",
      "/home/tarek/.local/lib/python3.10/site-packages/sklearn/cluster/_kmeans.py:870: FutureWarning: The default value of `n_init` will change from 10 to 'auto' in 1.4. Set the value of `n_init` explicitly to suppress the warning\n",
      "  warnings.warn(\n",
      "/home/tarek/.local/lib/python3.10/site-packages/sklearn/cluster/_kmeans.py:870: FutureWarning: The default value of `n_init` will change from 10 to 'auto' in 1.4. Set the value of `n_init` explicitly to suppress the warning\n",
      "  warnings.warn(\n",
      "/home/tarek/.local/lib/python3.10/site-packages/sklearn/cluster/_kmeans.py:870: FutureWarning: The default value of `n_init` will change from 10 to 'auto' in 1.4. Set the value of `n_init` explicitly to suppress the warning\n",
      "  warnings.warn(\n",
      "/home/tarek/.local/lib/python3.10/site-packages/sklearn/cluster/_kmeans.py:870: FutureWarning: The default value of `n_init` will change from 10 to 'auto' in 1.4. Set the value of `n_init` explicitly to suppress the warning\n",
      "  warnings.warn(\n",
      "/home/tarek/.local/lib/python3.10/site-packages/sklearn/cluster/_kmeans.py:870: FutureWarning: The default value of `n_init` will change from 10 to 'auto' in 1.4. Set the value of `n_init` explicitly to suppress the warning\n",
      "  warnings.warn(\n",
      "/home/tarek/.local/lib/python3.10/site-packages/sklearn/cluster/_kmeans.py:870: FutureWarning: The default value of `n_init` will change from 10 to 'auto' in 1.4. Set the value of `n_init` explicitly to suppress the warning\n",
      "  warnings.warn(\n",
      "/home/tarek/.local/lib/python3.10/site-packages/sklearn/cluster/_kmeans.py:870: FutureWarning: The default value of `n_init` will change from 10 to 'auto' in 1.4. Set the value of `n_init` explicitly to suppress the warning\n",
      "  warnings.warn(\n"
     ]
    }
   ],
   "source": [
    "wcss=[]\n",
    "for i in range (1,11):\n",
    "    kmeans = KMeans(n_clusters=i, init='k-means++', random_state=42)\n",
    "    kmeans.fit(df_knowledge_dummies)\n",
    "    wcss.append(kmeans.inertia_)\n"
   ]
  },
  {
   "cell_type": "code",
   "execution_count": 250,
   "id": "3f3ae190",
   "metadata": {},
   "outputs": [
    {
     "data": {
      "text/plain": [
       "[<matplotlib.lines.Line2D at 0x7efc835a32b0>]"
      ]
     },
     "execution_count": 250,
     "metadata": {},
     "output_type": "execute_result"
    },
    {
     "data": {
      "image/png": "[encoded data removed]",
      "text/plain": [
       "<Figure size 640x480 with 1 Axes>"
      ]
     },
     "metadata": {},
     "output_type": "display_data"
    }
   ],
   "source": [
    "plt.plot(wcss)"
   ]
  },
  {
   "cell_type": "markdown",
   "id": "c3159bb3",
   "metadata": {},
   "source": []
  },
  {
   "cell_type": "code",
   "execution_count": 251,
   "id": "686a8a83",
   "metadata": {},
   "outputs": [],
   "source": [
    "from sklearn.metrics import silhouette_score, calinski_harabasz_score"
   ]
  },
  {
   "cell_type": "code",
   "execution_count": 252,
   "id": "19017a06",
   "metadata": {},
   "outputs": [
    {
     "name": "stdout",
     "output_type": "stream",
     "text": [
      "Silhouette score for knowledge ohc: 0.24972853838012019\n"
     ]
    }
   ],
   "source": [
    "silhouette_avg_knowledge_ohc = silhouette_score(df_knowledge_dummies, km_k.labels_)\n",
    "print('Silhouette score for knowledge ohc:', silhouette_avg_knowledge_ohc)"
   ]
  },
  {
   "cell_type": "markdown",
   "id": "c354aa58",
   "metadata": {},
   "source": [
    "## standard scaler"
   ]
  },
  {
   "cell_type": "code",
   "execution_count": 253,
   "id": "db151dc3",
   "metadata": {},
   "outputs": [],
   "source": [
    "df_knowledge=df[['X7.I.have.an.understanding.of.the.basic.computational.principles.of.artificial.intelligence..AI.',\n",
    "       'X8.I.am.comfortable.with.the.nomenclature.related.to.artificial.intelligence',\n",
    "       'X9.I.have.an.understanding.of.the.limitations.of.artificial.intelligence',\n",
    "       'X10.Deep.Learning..and..Artificial.Intelligence..are.currently.being.broadly.discussed.in.the.radiological.community...Were.you.already.aware.of.these.topics.in.radiology..',\n",
    "       'X11.Deep.Learning..and..Artificial.Intelligence..are.currently.being.broadly.discussed.in.the.radiological.community...Do.you.personally.have.a.basic.understanding.of.the.technologies.used.in.these.topics..',\n",
    "       'X13.The.following.questions.test.your.understanding.of.deep.learning..a.subtype.of.artificial.intelligence....Deep.learning.is.a.class.of.machine.learning.algorithms.that.use.multiple.layers.of.neural.networks..',\n",
    "       'X14.The.following.questions.test.your.understanding.of.deep.learning..a.subtype.of.artificial.intelligence....Deep.learning.methods.learn.directly.from.data..without.the.need.for.manual.feature.extraction..',\n",
    "       'X15.The.following.questions.test.your.understanding.of.deep.learning..a.subtype.of.artificial.intelligence....Application.of.deep.learning.in.radiology.requires.large.databases.of.labeled.medical.images..',\n",
    "       'X16.The.following.questions.test.your.understanding.of.deep.learning..a.subtype.of.artificial.intelligence....Deep.learning.systems.are.often.opaque..it.can.be.difficult.to.delineate.the.underlying..thought.process...',\n",
    "       ]]"
   ]
  },
  {
   "cell_type": "code",
   "execution_count": 254,
   "id": "c237c96b",
   "metadata": {},
   "outputs": [
    {
     "data": {
      "text/html": [
       "<div>\n",
       "<style scoped>\n",
       "    .dataframe tbody tr th:only-of-type {\n",
       "        vertical-align: middle;\n",
       "    }\n",
       "\n",
       "    .dataframe tbody tr th {\n",
       "        vertical-align: top;\n",
       "    }\n",
       "\n",
       "    .dataframe thead th {\n",
       "        text-align: right;\n",
       "    }\n",
       "</style>\n",
       "<table border=\"1\" class=\"dataframe\">\n",
       "  <thead>\n",
       "    <tr style=\"text-align: right;\">\n",
       "      <th></th>\n",
       "      <th>X7.I.have.an.understanding.of.the.basic.computational.principles.of.artificial.intelligence..AI.</th>\n",
       "      <th>X8.I.am.comfortable.with.the.nomenclature.related.to.artificial.intelligence</th>\n",
       "      <th>X9.I.have.an.understanding.of.the.limitations.of.artificial.intelligence</th>\n",
       "      <th>X10.Deep.Learning..and..Artificial.Intelligence..are.currently.being.broadly.discussed.in.the.radiological.community...Were.you.already.aware.of.these.topics.in.radiology..</th>\n",
       "      <th>X11.Deep.Learning..and..Artificial.Intelligence..are.currently.being.broadly.discussed.in.the.radiological.community...Do.you.personally.have.a.basic.understanding.of.the.technologies.used.in.these.topics..</th>\n",
       "      <th>X13.The.following.questions.test.your.understanding.of.deep.learning..a.subtype.of.artificial.intelligence....Deep.learning.is.a.class.of.machine.learning.algorithms.that.use.multiple.layers.of.neural.networks..</th>\n",
       "      <th>X14.The.following.questions.test.your.understanding.of.deep.learning..a.subtype.of.artificial.intelligence....Deep.learning.methods.learn.directly.from.data..without.the.need.for.manual.feature.extraction..</th>\n",
       "      <th>X15.The.following.questions.test.your.understanding.of.deep.learning..a.subtype.of.artificial.intelligence....Application.of.deep.learning.in.radiology.requires.large.databases.of.labeled.medical.images..</th>\n",
       "      <th>X16.The.following.questions.test.your.understanding.of.deep.learning..a.subtype.of.artificial.intelligence....Deep.learning.systems.are.often.opaque..it.can.be.difficult.to.delineate.the.underlying..thought.process...</th>\n",
       "    </tr>\n",
       "  </thead>\n",
       "  <tbody>\n",
       "    <tr>\n",
       "      <th>0</th>\n",
       "      <td>1</td>\n",
       "      <td>9</td>\n",
       "      <td>1</td>\n",
       "      <td>0</td>\n",
       "      <td>1</td>\n",
       "      <td>9</td>\n",
       "      <td>9</td>\n",
       "      <td>1</td>\n",
       "      <td>9</td>\n",
       "    </tr>\n",
       "    <tr>\n",
       "      <th>1</th>\n",
       "      <td>9</td>\n",
       "      <td>9</td>\n",
       "      <td>9</td>\n",
       "      <td>0</td>\n",
       "      <td>0</td>\n",
       "      <td>1</td>\n",
       "      <td>9</td>\n",
       "      <td>1</td>\n",
       "      <td>9</td>\n",
       "    </tr>\n",
       "    <tr>\n",
       "      <th>2</th>\n",
       "      <td>9</td>\n",
       "      <td>1</td>\n",
       "      <td>9</td>\n",
       "      <td>1</td>\n",
       "      <td>0</td>\n",
       "      <td>1</td>\n",
       "      <td>9</td>\n",
       "      <td>1</td>\n",
       "      <td>9</td>\n",
       "    </tr>\n",
       "    <tr>\n",
       "      <th>3</th>\n",
       "      <td>0</td>\n",
       "      <td>0</td>\n",
       "      <td>0</td>\n",
       "      <td>1</td>\n",
       "      <td>1</td>\n",
       "      <td>1</td>\n",
       "      <td>1</td>\n",
       "      <td>1</td>\n",
       "      <td>1</td>\n",
       "    </tr>\n",
       "    <tr>\n",
       "      <th>4</th>\n",
       "      <td>0</td>\n",
       "      <td>9</td>\n",
       "      <td>1</td>\n",
       "      <td>0</td>\n",
       "      <td>0</td>\n",
       "      <td>1</td>\n",
       "      <td>1</td>\n",
       "      <td>9</td>\n",
       "      <td>9</td>\n",
       "    </tr>\n",
       "  </tbody>\n",
       "</table>\n",
       "</div>"
      ],
      "text/plain": [
       "   X7.I.have.an.understanding.of.the.basic.computational.principles.of.artificial.intelligence..AI.  \\\n",
       "0                                                  1                                                  \n",
       "1                                                  9                                                  \n",
       "2                                                  9                                                  \n",
       "3                                                  0                                                  \n",
       "4                                                  0                                                  \n",
       "\n",
       "   X8.I.am.comfortable.with.the.nomenclature.related.to.artificial.intelligence  \\\n",
       "0                                                  9                              \n",
       "1                                                  9                              \n",
       "2                                                  1                              \n",
       "3                                                  0                              \n",
       "4                                                  9                              \n",
       "\n",
       "   X9.I.have.an.understanding.of.the.limitations.of.artificial.intelligence  \\\n",
       "0                                                  1                          \n",
       "1                                                  9                          \n",
       "2                                                  9                          \n",
       "3                                                  0                          \n",
       "4                                                  1                          \n",
       "\n",
       "   X10.Deep.Learning..and..Artificial.Intelligence..are.currently.being.broadly.discussed.in.the.radiological.community...Were.you.already.aware.of.these.topics.in.radiology..  \\\n",
       "0                                                  0                                                                                                                              \n",
       "1                                                  0                                                                                                                              \n",
       "2                                                  1                                                                                                                              \n",
       "3                                                  1                                                                                                                              \n",
       "4                                                  0                                                                                                                              \n",
       "\n",
       "   X11.Deep.Learning..and..Artificial.Intelligence..are.currently.being.broadly.discussed.in.the.radiological.community...Do.you.personally.have.a.basic.understanding.of.the.technologies.used.in.these.topics..  \\\n",
       "0                                                  1                                                                                                                                                                \n",
       "1                                                  0                                                                                                                                                                \n",
       "2                                                  0                                                                                                                                                                \n",
       "3                                                  1                                                                                                                                                                \n",
       "4                                                  0                                                                                                                                                                \n",
       "\n",
       "   X13.The.following.questions.test.your.understanding.of.deep.learning..a.subtype.of.artificial.intelligence....Deep.learning.is.a.class.of.machine.learning.algorithms.that.use.multiple.layers.of.neural.networks..  \\\n",
       "0                                                  9                                                                                                                                                                     \n",
       "1                                                  1                                                                                                                                                                     \n",
       "2                                                  1                                                                                                                                                                     \n",
       "3                                                  1                                                                                                                                                                     \n",
       "4                                                  1                                                                                                                                                                     \n",
       "\n",
       "   X14.The.following.questions.test.your.understanding.of.deep.learning..a.subtype.of.artificial.intelligence....Deep.learning.methods.learn.directly.from.data..without.the.need.for.manual.feature.extraction..  \\\n",
       "0                                                  9                                                                                                                                                                \n",
       "1                                                  9                                                                                                                                                                \n",
       "2                                                  9                                                                                                                                                                \n",
       "3                                                  1                                                                                                                                                                \n",
       "4                                                  1                                                                                                                                                                \n",
       "\n",
       "   X15.The.following.questions.test.your.understanding.of.deep.learning..a.subtype.of.artificial.intelligence....Application.of.deep.learning.in.radiology.requires.large.databases.of.labeled.medical.images..  \\\n",
       "0                                                  1                                                                                                                                                              \n",
       "1                                                  1                                                                                                                                                              \n",
       "2                                                  1                                                                                                                                                              \n",
       "3                                                  1                                                                                                                                                              \n",
       "4                                                  9                                                                                                                                                              \n",
       "\n",
       "   X16.The.following.questions.test.your.understanding.of.deep.learning..a.subtype.of.artificial.intelligence....Deep.learning.systems.are.often.opaque..it.can.be.difficult.to.delineate.the.underlying..thought.process...  \n",
       "0                                                  9                                                                                                                                                                          \n",
       "1                                                  9                                                                                                                                                                          \n",
       "2                                                  9                                                                                                                                                                          \n",
       "3                                                  1                                                                                                                                                                          \n",
       "4                                                  9                                                                                                                                                                          "
      ]
     },
     "execution_count": 254,
     "metadata": {},
     "output_type": "execute_result"
    }
   ],
   "source": [
    "df_knowledge.head()"
   ]
  },
  {
   "cell_type": "code",
   "execution_count": 255,
   "id": "4686f43f",
   "metadata": {},
   "outputs": [],
   "source": [
    "s=StandardScaler()\n",
    "df_knowledge_s=s.fit_transform(df_knowledge)"
   ]
  },
  {
   "cell_type": "code",
   "execution_count": 256,
   "id": "3233290c",
   "metadata": {},
   "outputs": [
    {
     "data": {
      "text/plain": [
       "array([[-0.41442826,  1.76848701, -0.27783917, ...,  0.77305699,\n",
       "        -1.02643466,  0.7600702 ],\n",
       "       [ 1.62961428,  1.76848701,  1.96736626, ...,  0.77305699,\n",
       "        -1.02643466,  0.7600702 ],\n",
       "       [ 1.62961428, -0.35105505,  1.96736626, ...,  0.77305699,\n",
       "        -1.02643466,  0.7600702 ],\n",
       "       ...,\n",
       "       [-0.66993358, -0.61599781, -0.55848985, ..., -1.39489169,\n",
       "        -1.02643466,  0.7600702 ],\n",
       "       [-0.66993358, -0.61599781, -0.55848985, ..., -1.39489169,\n",
       "        -1.02643466,  0.7600702 ],\n",
       "       [-0.66993358, -0.61599781, -0.55848985, ...,  0.77305699,\n",
       "        -1.02643466, -1.22957743]])"
      ]
     },
     "execution_count": 256,
     "metadata": {},
     "output_type": "execute_result"
    }
   ],
   "source": [
    "df_knowledge_s"
   ]
  },
  {
   "cell_type": "code",
   "execution_count": 257,
   "id": "d44a8544",
   "metadata": {
    "scrolled": true
   },
   "outputs": [
    {
     "name": "stderr",
     "output_type": "stream",
     "text": [
      "/home/tarek/.local/lib/python3.10/site-packages/sklearn/cluster/_kmeans.py:870: FutureWarning: The default value of `n_init` will change from 10 to 'auto' in 1.4. Set the value of `n_init` explicitly to suppress the warning\n",
      "  warnings.warn(\n"
     ]
    },
    {
     "name": "stdout",
     "output_type": "stream",
     "text": [
      "silhouette_avg_knowledge_s: 0.3047495947751281\n"
     ]
    }
   ],
   "source": [
    "km_k_s=KMeans(n_clusters=4)\n",
    "knowledge_clust_s=km_k_s.fit(df_knowledge_s)\n",
    "silhouette_avg_knowledge_s=silhouette_score(df_knowledge_s, km_k_s.labels_)\n",
    "print(\"silhouette_avg_knowledge_s:\",silhouette_avg_knowledge_s)"
   ]
  },
  {
   "cell_type": "code",
   "execution_count": 258,
   "id": "05943ee5",
   "metadata": {},
   "outputs": [],
   "source": [
    "#the one hot encoding is more accurate than standerdization in the knowledge section\n",
    "#silhouette_avg_knowledge_s: 0.30471199449553726\n",
    "#Silhouette score for knowledge ohc: 0.2490288772092691\n",
    "#Silhouette score for knowledge: 0.36071214672074053"
   ]
  },
  {
   "cell_type": "markdown",
   "id": "ba668ae8",
   "metadata": {},
   "source": [
    "## the attitude section"
   ]
  },
  {
   "cell_type": "markdown",
   "id": "07e41629",
   "metadata": {},
   "source": [
    "## one hot encoding"
   ]
  },
  {
   "cell_type": "code",
   "execution_count": 259,
   "id": "c07b04ad",
   "metadata": {},
   "outputs": [
    {
     "data": {
      "text/plain": [
       "Index(['X6.I.consider.myself.a.tech.savvy..well.informed.about.or.proficient.in.the.use.of.modern.technology..especially.computers.',\n",
       "       'X7.I.have.an.understanding.of.the.basic.computational.principles.of.artificial.intelligence..AI.',\n",
       "       'X8.I.am.comfortable.with.the.nomenclature.related.to.artificial.intelligence',\n",
       "       'X9.I.have.an.understanding.of.the.limitations.of.artificial.intelligence',\n",
       "       'X10.Deep.Learning..and..Artificial.Intelligence..are.currently.being.broadly.discussed.in.the.radiological.community...Were.you.already.aware.of.these.topics.in.radiology..',\n",
       "       'X11.Deep.Learning..and..Artificial.Intelligence..are.currently.being.broadly.discussed.in.the.radiological.community...Do.you.personally.have.a.basic.understanding.of.the.technologies.used.in.these.topics..',\n",
       "       'X13.The.following.questions.test.your.understanding.of.deep.learning..a.subtype.of.artificial.intelligence....Deep.learning.is.a.class.of.machine.learning.algorithms.that.use.multiple.layers.of.neural.networks..',\n",
       "       'X14.The.following.questions.test.your.understanding.of.deep.learning..a.subtype.of.artificial.intelligence....Deep.learning.methods.learn.directly.from.data..without.the.need.for.manual.feature.extraction..',\n",
       "       'X15.The.following.questions.test.your.understanding.of.deep.learning..a.subtype.of.artificial.intelligence....Application.of.deep.learning.in.radiology.requires.large.databases.of.labeled.medical.images..',\n",
       "       'X16.The.following.questions.test.your.understanding.of.deep.learning..a.subtype.of.artificial.intelligence....Deep.learning.systems.are.often.opaque..it.can.be.difficult.to.delineate.the.underlying..thought.process...',\n",
       "       'X17.Feelings.and.attitudes.towards.artificial.intelligence.and.deep.learning.in.medicine.and.radiology...Artificial.intelligence.will.revolutionize.radiology.',\n",
       "       'X18.Feelings.and.attitudes.towards.artificial.intelligence.and.deep.learning.in.medicine.and.radiology...Artificial.intelligence.will.revolutionize.medicine.in.general.',\n",
       "       'X19.Feelings.and.attitudes.towards.artificial.intelligence.and.deep.learning.in.medicine.and.radiology...The.human.radiologist.will.be.replaced.in.the.foreseeable.future.',\n",
       "       'X20.Feelings.and.attitudes.towards.artificial.intelligence.and.deep.learning.in.medicine.and.radiology...The.human..non.interventional..physician.will.be.replaced.in.the.foreseeable.future.',\n",
       "       'X21.Feelings.and.attitudes.towards.artificial.intelligence.and.deep.learning.in.medicine.and.radiology...In.the.foreseeable.future..all.physicians.will.be.replaced.',\n",
       "       'X22.Feelings.and.attitudes.towards.artificial.intelligence.and.deep.learning.in.medicine.and.radiology...These.developments.frighten.me.',\n",
       "       'X23.Feelings.and.attitudes.towards.artificial.intelligence.and.deep.learning.in.medicine.and.radiology...These.developments.make.radiology.more.exciting.to.me.',\n",
       "       'X24.Feelings.and.attitudes.towards.artificial.intelligence.and.deep.learning.in.medicine.and.radiology...These.developments.make.medicine.in.general.more.exciting.to.me.',\n",
       "       'X25.Feelings.and.attitudes.towards.artificial.intelligence.and.deep.learning.in.medicine.and.radiology...Artificial.intelligence.will.never.make.the.human.physician.expendable.',\n",
       "       'X26.Feelings.and.attitudes.towards.artificial.intelligence.and.deep.learning.in.medicine.and.radiology...The.impact.of.artificial.intelligence.alone.will.reduce.the.number.of.radiologists.that.are.needed..',\n",
       "       'X27.Feelings.and.attitudes.towards.artificial.intelligence.and.deep.learning.in.medicine.and.radiology...Artificial.intelligence.will.improve.radiology.',\n",
       "       'X28.Feelings.and.attitudes.towards.artificial.intelligence.and.deep.learning.in.medicine.and.radiology...Artificial.intelligence.will.improve.medicine.in.general.',\n",
       "       'X29.Feelings.and.attitudes.towards.artificial.intelligence.and.deep.learning.in.medicine.and.radiology...I.am.less.likely.to.consider.a.career.in.radiology..given.the.advancement.of.AI.',\n",
       "       'X30.Which.of.these.specialties.do.you.think.will.be.impacted.the.earliest.and.most.',\n",
       "       'X31.All.medical.students.should.receive.teaching.in.artificial.intelligence',\n",
       "       'X32.Teaching.in.artificial.intelligence.will.be.beneficial.for.my.career',\n",
       "       'X33.At.the.end.of.my.medical.degree..I.will.be.confident.in.using.basic.healthcare.AI.tools.if.required',\n",
       "       'X34.At.the.end.of.my.medical.degree..I.will.have.a.better.understanding.of.the.methods.used.to.assess.healthcare.AI.algorithm.performance',\n",
       "       'X35.Overall..at.the.end.of.my.medical.degree..I.feel.I.will.possess.the.knowledge.needed.to.work.with.AI.in.routine.clinical.practice',\n",
       "       'X36.Would.you.consider.using.the.following.clinical.workflow..Patients..clinical.images.undergo.artificial.intelligence.analysis..A.specialist.subsequently.reviews.both.the.image.and.the.artificial.intelligence.findings.',\n",
       "       'X37.What.potential.applications.for.AI.in.radiology.do.you.see...Automated.detection.of.pathologies.in.imaging.exams.',\n",
       "       'X38.What.potential.applications.for.AI.in.radiology.do.you.see...Automated.diagnosis.in.imaging.exams.',\n",
       "       'X39.What.potential.applications.for.AI.in.radiology.do.you.see...Automated.indication.of.appropriate.imaging.exams.'],\n",
       "      dtype='object')"
      ]
     },
     "execution_count": 259,
     "metadata": {},
     "output_type": "execute_result"
    }
   ],
   "source": [
    "df.columns"
   ]
  },
  {
   "cell_type": "code",
   "execution_count": 260,
   "id": "7f8807c0",
   "metadata": {},
   "outputs": [],
   "source": [
    "df_attitude_rad=df[['X17.Feelings.and.attitudes.towards.artificial.intelligence.and.deep.learning.in.medicine.and.radiology...Artificial.intelligence.will.revolutionize.radiology.', 'X27.Feelings.and.attitudes.towards.artificial.intelligence.and.deep.learning.in.medicine.and.radiology...Artificial.intelligence.will.improve.radiology.','X19.Feelings.and.attitudes.towards.artificial.intelligence.and.deep.learning.in.medicine.and.radiology...The.human.radiologist.will.be.replaced.in.the.foreseeable.future.','X23.Feelings.and.attitudes.towards.artificial.intelligence.and.deep.learning.in.medicine.and.radiology...These.developments.make.radiology.more.exciting.to.me.','X26.Feelings.and.attitudes.towards.artificial.intelligence.and.deep.learning.in.medicine.and.radiology...The.impact.of.artificial.intelligence.alone.will.reduce.the.number.of.radiologists.that.are.needed..','X29.Feelings.and.attitudes.towards.artificial.intelligence.and.deep.learning.in.medicine.and.radiology...I.am.less.likely.to.consider.a.career.in.radiology..given.the.advancement.of.AI.']]"
   ]
  },
  {
   "cell_type": "code",
   "execution_count": 261,
   "id": "4ff9f668",
   "metadata": {},
   "outputs": [
    {
     "data": {
      "text/plain": [
       "(4492, 6)"
      ]
     },
     "execution_count": 261,
     "metadata": {},
     "output_type": "execute_result"
    }
   ],
   "source": [
    "df_attitude_rad.shape"
   ]
  },
  {
   "cell_type": "code",
   "execution_count": 262,
   "id": "1c0e555a",
   "metadata": {},
   "outputs": [
    {
     "data": {
      "text/plain": [
       "int64    6\n",
       "dtype: int64"
      ]
     },
     "execution_count": 262,
     "metadata": {},
     "output_type": "execute_result"
    }
   ],
   "source": [
    "df_attitude_rad.dtypes.value_counts()"
   ]
  },
  {
   "cell_type": "code",
   "execution_count": 263,
   "id": "89cba63d",
   "metadata": {},
   "outputs": [
    {
     "data": {
      "text/html": [
       "<div>\n",
       "<style scoped>\n",
       "    .dataframe tbody tr th:only-of-type {\n",
       "        vertical-align: middle;\n",
       "    }\n",
       "\n",
       "    .dataframe tbody tr th {\n",
       "        vertical-align: top;\n",
       "    }\n",
       "\n",
       "    .dataframe thead th {\n",
       "        text-align: right;\n",
       "    }\n",
       "</style>\n",
       "<table border=\"1\" class=\"dataframe\">\n",
       "  <thead>\n",
       "    <tr style=\"text-align: right;\">\n",
       "      <th></th>\n",
       "      <th>X17.Feelings.and.attitudes.towards.artificial.intelligence.and.deep.learning.in.medicine.and.radiology...Artificial.intelligence.will.revolutionize.radiology.</th>\n",
       "      <th>X27.Feelings.and.attitudes.towards.artificial.intelligence.and.deep.learning.in.medicine.and.radiology...Artificial.intelligence.will.improve.radiology.</th>\n",
       "      <th>X19.Feelings.and.attitudes.towards.artificial.intelligence.and.deep.learning.in.medicine.and.radiology...The.human.radiologist.will.be.replaced.in.the.foreseeable.future.</th>\n",
       "      <th>X23.Feelings.and.attitudes.towards.artificial.intelligence.and.deep.learning.in.medicine.and.radiology...These.developments.make.radiology.more.exciting.to.me.</th>\n",
       "      <th>X26.Feelings.and.attitudes.towards.artificial.intelligence.and.deep.learning.in.medicine.and.radiology...The.impact.of.artificial.intelligence.alone.will.reduce.the.number.of.radiologists.that.are.needed..</th>\n",
       "      <th>X29.Feelings.and.attitudes.towards.artificial.intelligence.and.deep.learning.in.medicine.and.radiology...I.am.less.likely.to.consider.a.career.in.radiology..given.the.advancement.of.AI.</th>\n",
       "    </tr>\n",
       "  </thead>\n",
       "  <tbody>\n",
       "    <tr>\n",
       "      <th>0</th>\n",
       "      <td>1</td>\n",
       "      <td>1</td>\n",
       "      <td>0</td>\n",
       "      <td>0</td>\n",
       "      <td>9</td>\n",
       "      <td>0</td>\n",
       "    </tr>\n",
       "    <tr>\n",
       "      <th>1</th>\n",
       "      <td>1</td>\n",
       "      <td>1</td>\n",
       "      <td>1</td>\n",
       "      <td>1</td>\n",
       "      <td>1</td>\n",
       "      <td>1</td>\n",
       "    </tr>\n",
       "    <tr>\n",
       "      <th>2</th>\n",
       "      <td>1</td>\n",
       "      <td>1</td>\n",
       "      <td>9</td>\n",
       "      <td>1</td>\n",
       "      <td>1</td>\n",
       "      <td>1</td>\n",
       "    </tr>\n",
       "    <tr>\n",
       "      <th>3</th>\n",
       "      <td>1</td>\n",
       "      <td>1</td>\n",
       "      <td>1</td>\n",
       "      <td>1</td>\n",
       "      <td>1</td>\n",
       "      <td>1</td>\n",
       "    </tr>\n",
       "    <tr>\n",
       "      <th>4</th>\n",
       "      <td>1</td>\n",
       "      <td>1</td>\n",
       "      <td>9</td>\n",
       "      <td>9</td>\n",
       "      <td>1</td>\n",
       "      <td>1</td>\n",
       "    </tr>\n",
       "  </tbody>\n",
       "</table>\n",
       "</div>"
      ],
      "text/plain": [
       "   X17.Feelings.and.attitudes.towards.artificial.intelligence.and.deep.learning.in.medicine.and.radiology...Artificial.intelligence.will.revolutionize.radiology.  \\\n",
       "0                                                  1                                                                                                                \n",
       "1                                                  1                                                                                                                \n",
       "2                                                  1                                                                                                                \n",
       "3                                                  1                                                                                                                \n",
       "4                                                  1                                                                                                                \n",
       "\n",
       "   X27.Feelings.and.attitudes.towards.artificial.intelligence.and.deep.learning.in.medicine.and.radiology...Artificial.intelligence.will.improve.radiology.  \\\n",
       "0                                                  1                                                                                                          \n",
       "1                                                  1                                                                                                          \n",
       "2                                                  1                                                                                                          \n",
       "3                                                  1                                                                                                          \n",
       "4                                                  1                                                                                                          \n",
       "\n",
       "   X19.Feelings.and.attitudes.towards.artificial.intelligence.and.deep.learning.in.medicine.and.radiology...The.human.radiologist.will.be.replaced.in.the.foreseeable.future.  \\\n",
       "0                                                  0                                                                                                                            \n",
       "1                                                  1                                                                                                                            \n",
       "2                                                  9                                                                                                                            \n",
       "3                                                  1                                                                                                                            \n",
       "4                                                  9                                                                                                                            \n",
       "\n",
       "   X23.Feelings.and.attitudes.towards.artificial.intelligence.and.deep.learning.in.medicine.and.radiology...These.developments.make.radiology.more.exciting.to.me.  \\\n",
       "0                                                  0                                                                                                                 \n",
       "1                                                  1                                                                                                                 \n",
       "2                                                  1                                                                                                                 \n",
       "3                                                  1                                                                                                                 \n",
       "4                                                  9                                                                                                                 \n",
       "\n",
       "   X26.Feelings.and.attitudes.towards.artificial.intelligence.and.deep.learning.in.medicine.and.radiology...The.impact.of.artificial.intelligence.alone.will.reduce.the.number.of.radiologists.that.are.needed..  \\\n",
       "0                                                  9                                                                                                                                                               \n",
       "1                                                  1                                                                                                                                                               \n",
       "2                                                  1                                                                                                                                                               \n",
       "3                                                  1                                                                                                                                                               \n",
       "4                                                  1                                                                                                                                                               \n",
       "\n",
       "   X29.Feelings.and.attitudes.towards.artificial.intelligence.and.deep.learning.in.medicine.and.radiology...I.am.less.likely.to.consider.a.career.in.radiology..given.the.advancement.of.AI.  \n",
       "0                                                  0                                                                                                                                          \n",
       "1                                                  1                                                                                                                                          \n",
       "2                                                  1                                                                                                                                          \n",
       "3                                                  1                                                                                                                                          \n",
       "4                                                  1                                                                                                                                          "
      ]
     },
     "execution_count": 263,
     "metadata": {},
     "output_type": "execute_result"
    }
   ],
   "source": [
    "df_attitude_rad.head()"
   ]
  },
  {
   "cell_type": "code",
   "execution_count": 264,
   "id": "d9bf7d2b",
   "metadata": {},
   "outputs": [],
   "source": [
    "df_attitude_rad=df_attitude_rad.astype(object)"
   ]
  },
  {
   "cell_type": "code",
   "execution_count": 265,
   "id": "e367ce50",
   "metadata": {},
   "outputs": [
    {
     "name": "stderr",
     "output_type": "stream",
     "text": [
      "/tmp/ipykernel_25075/2020937743.py:1: FutureWarning: In a future version, the Index constructor will not infer numeric dtypes when passed object-dtype sequences (matching Series behavior)\n",
      "  df_attitude_rad_dummies=pd.get_dummies(df_attitude_rad)\n",
      "/tmp/ipykernel_25075/2020937743.py:1: FutureWarning: In a future version, the Index constructor will not infer numeric dtypes when passed object-dtype sequences (matching Series behavior)\n",
      "  df_attitude_rad_dummies=pd.get_dummies(df_attitude_rad)\n",
      "/tmp/ipykernel_25075/2020937743.py:1: FutureWarning: In a future version, the Index constructor will not infer numeric dtypes when passed object-dtype sequences (matching Series behavior)\n",
      "  df_attitude_rad_dummies=pd.get_dummies(df_attitude_rad)\n",
      "/tmp/ipykernel_25075/2020937743.py:1: FutureWarning: In a future version, the Index constructor will not infer numeric dtypes when passed object-dtype sequences (matching Series behavior)\n",
      "  df_attitude_rad_dummies=pd.get_dummies(df_attitude_rad)\n",
      "/tmp/ipykernel_25075/2020937743.py:1: FutureWarning: In a future version, the Index constructor will not infer numeric dtypes when passed object-dtype sequences (matching Series behavior)\n",
      "  df_attitude_rad_dummies=pd.get_dummies(df_attitude_rad)\n",
      "/tmp/ipykernel_25075/2020937743.py:1: FutureWarning: In a future version, the Index constructor will not infer numeric dtypes when passed object-dtype sequences (matching Series behavior)\n",
      "  df_attitude_rad_dummies=pd.get_dummies(df_attitude_rad)\n"
     ]
    }
   ],
   "source": [
    "df_attitude_rad_dummies=pd.get_dummies(df_attitude_rad)"
   ]
  },
  {
   "cell_type": "code",
   "execution_count": 266,
   "id": "523d2435",
   "metadata": {},
   "outputs": [
    {
     "data": {
      "text/plain": [
       "(4492, 18)"
      ]
     },
     "execution_count": 266,
     "metadata": {},
     "output_type": "execute_result"
    }
   ],
   "source": [
    "df_attitude_rad_dummies.shape"
   ]
  },
  {
   "cell_type": "code",
   "execution_count": 267,
   "id": "9d8def55",
   "metadata": {},
   "outputs": [
    {
     "name": "stderr",
     "output_type": "stream",
     "text": [
      "/home/tarek/.local/lib/python3.10/site-packages/sklearn/cluster/_kmeans.py:870: FutureWarning: The default value of `n_init` will change from 10 to 'auto' in 1.4. Set the value of `n_init` explicitly to suppress the warning\n",
      "  warnings.warn(\n",
      "/home/tarek/.local/lib/python3.10/site-packages/sklearn/cluster/_kmeans.py:870: FutureWarning: The default value of `n_init` will change from 10 to 'auto' in 1.4. Set the value of `n_init` explicitly to suppress the warning\n",
      "  warnings.warn(\n",
      "/home/tarek/.local/lib/python3.10/site-packages/sklearn/cluster/_kmeans.py:870: FutureWarning: The default value of `n_init` will change from 10 to 'auto' in 1.4. Set the value of `n_init` explicitly to suppress the warning\n",
      "  warnings.warn(\n",
      "/home/tarek/.local/lib/python3.10/site-packages/sklearn/cluster/_kmeans.py:870: FutureWarning: The default value of `n_init` will change from 10 to 'auto' in 1.4. Set the value of `n_init` explicitly to suppress the warning\n",
      "  warnings.warn(\n",
      "/home/tarek/.local/lib/python3.10/site-packages/sklearn/cluster/_kmeans.py:870: FutureWarning: The default value of `n_init` will change from 10 to 'auto' in 1.4. Set the value of `n_init` explicitly to suppress the warning\n",
      "  warnings.warn(\n",
      "/home/tarek/.local/lib/python3.10/site-packages/sklearn/cluster/_kmeans.py:870: FutureWarning: The default value of `n_init` will change from 10 to 'auto' in 1.4. Set the value of `n_init` explicitly to suppress the warning\n",
      "  warnings.warn(\n",
      "/home/tarek/.local/lib/python3.10/site-packages/sklearn/cluster/_kmeans.py:870: FutureWarning: The default value of `n_init` will change from 10 to 'auto' in 1.4. Set the value of `n_init` explicitly to suppress the warning\n",
      "  warnings.warn(\n",
      "/home/tarek/.local/lib/python3.10/site-packages/sklearn/cluster/_kmeans.py:870: FutureWarning: The default value of `n_init` will change from 10 to 'auto' in 1.4. Set the value of `n_init` explicitly to suppress the warning\n",
      "  warnings.warn(\n",
      "/home/tarek/.local/lib/python3.10/site-packages/sklearn/cluster/_kmeans.py:870: FutureWarning: The default value of `n_init` will change from 10 to 'auto' in 1.4. Set the value of `n_init` explicitly to suppress the warning\n",
      "  warnings.warn(\n",
      "/home/tarek/.local/lib/python3.10/site-packages/sklearn/cluster/_kmeans.py:870: FutureWarning: The default value of `n_init` will change from 10 to 'auto' in 1.4. Set the value of `n_init` explicitly to suppress the warning\n",
      "  warnings.warn(\n"
     ]
    }
   ],
   "source": [
    "from sklearn.cluster import KMeans\n",
    "wcss=[]\n",
    "for i in range (1,11):\n",
    "    kmeans = KMeans(n_clusters=i, init='k-means++', random_state=42)\n",
    "    kmeans.fit(df_attitude_rad_dummies)\n",
    "    wcss.append(kmeans.inertia_)"
   ]
  },
  {
   "cell_type": "code",
   "execution_count": 268,
   "id": "2e5dd874",
   "metadata": {},
   "outputs": [
    {
     "data": {
      "text/plain": [
       "[<matplotlib.lines.Line2D at 0x7efc82bf5660>]"
      ]
     },
     "execution_count": 268,
     "metadata": {},
     "output_type": "execute_result"
    },
    {
     "data": {
      "image/png": "[encoded data removed]",
      "text/plain": [
       "<Figure size 640x480 with 1 Axes>"
      ]
     },
     "metadata": {},
     "output_type": "display_data"
    }
   ],
   "source": [
    "plt.plot(wcss)"
   ]
  },
  {
   "cell_type": "code",
   "execution_count": 269,
   "id": "7e410aab",
   "metadata": {},
   "outputs": [
    {
     "name": "stderr",
     "output_type": "stream",
     "text": [
      "/home/tarek/.local/lib/python3.10/site-packages/sklearn/cluster/_kmeans.py:870: FutureWarning: The default value of `n_init` will change from 10 to 'auto' in 1.4. Set the value of `n_init` explicitly to suppress the warning\n",
      "  warnings.warn(\n"
     ]
    },
    {
     "name": "stdout",
     "output_type": "stream",
     "text": [
      "Silhouette score A R OHC: 0.1767696818760983\n"
     ]
    }
   ],
   "source": [
    "km_a_r_ohc=KMeans(n_clusters=3)\n",
    "model=km_a_r_ohc.fit(df_attitude_rad_dummies)\n",
    "silhouette_avg_a_r_ohc = silhouette_score(df_attitude_rad_dummies, km_a_r_ohc.labels_)\n",
    "print('Silhouette score A R OHC:', silhouette_avg_a_r_ohc)"
   ]
  },
  {
   "cell_type": "markdown",
   "id": "babc9b3f",
   "metadata": {},
   "source": [
    "## standerdization attitude rad"
   ]
  },
  {
   "cell_type": "code",
   "execution_count": 270,
   "id": "d94b86a0",
   "metadata": {},
   "outputs": [],
   "source": [
    "df_attitude_rad=df[['X17.Feelings.and.attitudes.towards.artificial.intelligence.and.deep.learning.in.medicine.and.radiology...Artificial.intelligence.will.revolutionize.radiology.', 'X27.Feelings.and.attitudes.towards.artificial.intelligence.and.deep.learning.in.medicine.and.radiology...Artificial.intelligence.will.improve.radiology.','X19.Feelings.and.attitudes.towards.artificial.intelligence.and.deep.learning.in.medicine.and.radiology...The.human.radiologist.will.be.replaced.in.the.foreseeable.future.','X23.Feelings.and.attitudes.towards.artificial.intelligence.and.deep.learning.in.medicine.and.radiology...These.developments.make.radiology.more.exciting.to.me.','X26.Feelings.and.attitudes.towards.artificial.intelligence.and.deep.learning.in.medicine.and.radiology...The.impact.of.artificial.intelligence.alone.will.reduce.the.number.of.radiologists.that.are.needed..','X29.Feelings.and.attitudes.towards.artificial.intelligence.and.deep.learning.in.medicine.and.radiology...I.am.less.likely.to.consider.a.career.in.radiology..given.the.advancement.of.AI.']]"
   ]
  },
  {
   "cell_type": "code",
   "execution_count": 271,
   "id": "16e96b95",
   "metadata": {},
   "outputs": [
    {
     "data": {
      "text/plain": [
       "array([[-0.3809982 , -0.46685668, -0.83010311, -0.87211188,  1.4021436 ,\n",
       "        -0.9026038 ],\n",
       "       [-0.3809982 , -0.46685668, -0.58864593, -0.60694831, -0.63948656,\n",
       "        -0.6630613 ],\n",
       "       [-0.3809982 , -0.46685668,  1.34301147, -0.60694831, -0.63948656,\n",
       "        -0.6630613 ],\n",
       "       ...,\n",
       "       [-0.3809982 , -0.46685668, -0.83010311,  1.51436024,  1.4021436 ,\n",
       "         1.25327865],\n",
       "       [-0.3809982 , -0.46685668, -0.58864593, -0.60694831, -0.63948656,\n",
       "         1.25327865],\n",
       "       [-0.3809982 , -0.46685668,  1.34301147, -0.60694831,  1.4021436 ,\n",
       "        -0.9026038 ]])"
      ]
     },
     "execution_count": 271,
     "metadata": {},
     "output_type": "execute_result"
    }
   ],
   "source": [
    "df_attitude_rad_s=s.fit_transform(df_attitude_rad)\n",
    "df_attitude_rad_s"
   ]
  },
  {
   "cell_type": "code",
   "execution_count": 272,
   "id": "c4a7697d",
   "metadata": {},
   "outputs": [
    {
     "name": "stderr",
     "output_type": "stream",
     "text": [
      "/home/tarek/.local/lib/python3.10/site-packages/sklearn/cluster/_kmeans.py:870: FutureWarning: The default value of `n_init` will change from 10 to 'auto' in 1.4. Set the value of `n_init` explicitly to suppress the warning\n",
      "  warnings.warn(\n",
      "/home/tarek/.local/lib/python3.10/site-packages/sklearn/cluster/_kmeans.py:870: FutureWarning: The default value of `n_init` will change from 10 to 'auto' in 1.4. Set the value of `n_init` explicitly to suppress the warning\n",
      "  warnings.warn(\n",
      "/home/tarek/.local/lib/python3.10/site-packages/sklearn/cluster/_kmeans.py:870: FutureWarning: The default value of `n_init` will change from 10 to 'auto' in 1.4. Set the value of `n_init` explicitly to suppress the warning\n",
      "  warnings.warn(\n",
      "/home/tarek/.local/lib/python3.10/site-packages/sklearn/cluster/_kmeans.py:870: FutureWarning: The default value of `n_init` will change from 10 to 'auto' in 1.4. Set the value of `n_init` explicitly to suppress the warning\n",
      "  warnings.warn(\n",
      "/home/tarek/.local/lib/python3.10/site-packages/sklearn/cluster/_kmeans.py:870: FutureWarning: The default value of `n_init` will change from 10 to 'auto' in 1.4. Set the value of `n_init` explicitly to suppress the warning\n",
      "  warnings.warn(\n",
      "/home/tarek/.local/lib/python3.10/site-packages/sklearn/cluster/_kmeans.py:870: FutureWarning: The default value of `n_init` will change from 10 to 'auto' in 1.4. Set the value of `n_init` explicitly to suppress the warning\n",
      "  warnings.warn(\n",
      "/home/tarek/.local/lib/python3.10/site-packages/sklearn/cluster/_kmeans.py:870: FutureWarning: The default value of `n_init` will change from 10 to 'auto' in 1.4. Set the value of `n_init` explicitly to suppress the warning\n",
      "  warnings.warn(\n",
      "/home/tarek/.local/lib/python3.10/site-packages/sklearn/cluster/_kmeans.py:870: FutureWarning: The default value of `n_init` will change from 10 to 'auto' in 1.4. Set the value of `n_init` explicitly to suppress the warning\n",
      "  warnings.warn(\n",
      "/home/tarek/.local/lib/python3.10/site-packages/sklearn/cluster/_kmeans.py:870: FutureWarning: The default value of `n_init` will change from 10 to 'auto' in 1.4. Set the value of `n_init` explicitly to suppress the warning\n",
      "  warnings.warn(\n",
      "/home/tarek/.local/lib/python3.10/site-packages/sklearn/cluster/_kmeans.py:870: FutureWarning: The default value of `n_init` will change from 10 to 'auto' in 1.4. Set the value of `n_init` explicitly to suppress the warning\n",
      "  warnings.warn(\n"
     ]
    }
   ],
   "source": [
    "wcss_a_r_s=[]\n",
    "for i in range(1,11):\n",
    "    kmeans=KMeans(n_clusters=i, init=\"k-means++\", random_state=42)\n",
    "    kmeans.fit(df_attitude_rad_s)\n",
    "    wcss_a_r_s.append(kmeans.inertia_)"
   ]
  },
  {
   "cell_type": "code",
   "execution_count": 273,
   "id": "746337a5",
   "metadata": {},
   "outputs": [
    {
     "data": {
      "text/plain": [
       "[<matplotlib.lines.Line2D at 0x7efc844a8b80>]"
      ]
     },
     "execution_count": 273,
     "metadata": {},
     "output_type": "execute_result"
    },
    {
     "data": {
      "image/png": "[encoded data removed]",
      "text/plain": [
       "<Figure size 640x480 with 1 Axes>"
      ]
     },
     "metadata": {},
     "output_type": "display_data"
    }
   ],
   "source": [
    "plt.plot(wcss_a_r_s)"
   ]
  },
  {
   "cell_type": "code",
   "execution_count": 276,
   "id": "c23efa53",
   "metadata": {},
   "outputs": [
    {
     "name": "stderr",
     "output_type": "stream",
     "text": [
      "/home/tarek/.local/lib/python3.10/site-packages/sklearn/cluster/_kmeans.py:870: FutureWarning: The default value of `n_init` will change from 10 to 'auto' in 1.4. Set the value of `n_init` explicitly to suppress the warning\n",
      "  warnings.warn(\n"
     ]
    },
    {
     "name": "stdout",
     "output_type": "stream",
     "text": [
      "silhouette_avg_a_r_s2: 0.34082325484966697\n"
     ]
    }
   ],
   "source": [
    "km_a_r_s=KMeans(n_clusters=2)\n",
    "a_r_s_clust=km_a_r_s.fit(df_attitude_rad_s)\n",
    "silhouette_avg_a_r_s=silhouette_score(df_attitude_rad_s, km_a_r_s.labels_)\n",
    "print(\"silhouette_avg_a_r_s2:\", silhouette_avg_a_r_s)"
   ]
  },
  {
   "cell_type": "code",
   "execution_count": 104,
   "id": "ed303476",
   "metadata": {},
   "outputs": [],
   "source": [
    "#silhouette_avg_a_r_s2: 0.3374656801303834\n",
    "#Silhouette score A R OHC: 0.17548861955525158"
   ]
  },
  {
   "cell_type": "markdown",
   "id": "9c39fa14",
   "metadata": {},
   "source": [
    "## attitude total"
   ]
  },
  {
   "cell_type": "markdown",
   "id": "74f82979",
   "metadata": {},
   "source": [
    "## OHC"
   ]
  },
  {
   "cell_type": "code",
   "execution_count": 277,
   "id": "ba34d041",
   "metadata": {},
   "outputs": [],
   "source": [
    "df_attitude=df[['X17.Feelings.and.attitudes.towards.artificial.intelligence.and.deep.learning.in.medicine.and.radiology...Artificial.intelligence.will.revolutionize.radiology.',\n",
    "       'X18.Feelings.and.attitudes.towards.artificial.intelligence.and.deep.learning.in.medicine.and.radiology...Artificial.intelligence.will.revolutionize.medicine.in.general.',\n",
    "       'X19.Feelings.and.attitudes.towards.artificial.intelligence.and.deep.learning.in.medicine.and.radiology...The.human.radiologist.will.be.replaced.in.the.foreseeable.future.',\n",
    "       'X20.Feelings.and.attitudes.towards.artificial.intelligence.and.deep.learning.in.medicine.and.radiology...The.human..non.interventional..physician.will.be.replaced.in.the.foreseeable.future.',\n",
    "       'X21.Feelings.and.attitudes.towards.artificial.intelligence.and.deep.learning.in.medicine.and.radiology...In.the.foreseeable.future..all.physicians.will.be.replaced.',\n",
    "       'X22.Feelings.and.attitudes.towards.artificial.intelligence.and.deep.learning.in.medicine.and.radiology...These.developments.frighten.me.',\n",
    "       'X23.Feelings.and.attitudes.towards.artificial.intelligence.and.deep.learning.in.medicine.and.radiology...These.developments.make.radiology.more.exciting.to.me.',\n",
    "       'X24.Feelings.and.attitudes.towards.artificial.intelligence.and.deep.learning.in.medicine.and.radiology...These.developments.make.medicine.in.general.more.exciting.to.me.',\n",
    "       'X25.Feelings.and.attitudes.towards.artificial.intelligence.and.deep.learning.in.medicine.and.radiology...Artificial.intelligence.will.never.make.the.human.physician.expendable.',\n",
    "       'X26.Feelings.and.attitudes.towards.artificial.intelligence.and.deep.learning.in.medicine.and.radiology...The.impact.of.artificial.intelligence.alone.will.reduce.the.number.of.radiologists.that.are.needed..',\n",
    "       'X27.Feelings.and.attitudes.towards.artificial.intelligence.and.deep.learning.in.medicine.and.radiology...Artificial.intelligence.will.improve.radiology.',\n",
    "       'X28.Feelings.and.attitudes.towards.artificial.intelligence.and.deep.learning.in.medicine.and.radiology...Artificial.intelligence.will.improve.medicine.in.general.',\n",
    "       'X29.Feelings.and.attitudes.towards.artificial.intelligence.and.deep.learning.in.medicine.and.radiology...I.am.less.likely.to.consider.a.career.in.radiology..given.the.advancement.of.AI.',\n",
    "       ]]"
   ]
  },
  {
   "cell_type": "code",
   "execution_count": 278,
   "id": "129748f8",
   "metadata": {
    "scrolled": true
   },
   "outputs": [
    {
     "data": {
      "text/html": [
       "<div>\n",
       "<style scoped>\n",
       "    .dataframe tbody tr th:only-of-type {\n",
       "        vertical-align: middle;\n",
       "    }\n",
       "\n",
       "    .dataframe tbody tr th {\n",
       "        vertical-align: top;\n",
       "    }\n",
       "\n",
       "    .dataframe thead th {\n",
       "        text-align: right;\n",
       "    }\n",
       "</style>\n",
       "<table border=\"1\" class=\"dataframe\">\n",
       "  <thead>\n",
       "    <tr style=\"text-align: right;\">\n",
       "      <th></th>\n",
       "      <th>X17.Feelings.and.attitudes.towards.artificial.intelligence.and.deep.learning.in.medicine.and.radiology...Artificial.intelligence.will.revolutionize.radiology.</th>\n",
       "      <th>X18.Feelings.and.attitudes.towards.artificial.intelligence.and.deep.learning.in.medicine.and.radiology...Artificial.intelligence.will.revolutionize.medicine.in.general.</th>\n",
       "      <th>X19.Feelings.and.attitudes.towards.artificial.intelligence.and.deep.learning.in.medicine.and.radiology...The.human.radiologist.will.be.replaced.in.the.foreseeable.future.</th>\n",
       "      <th>X20.Feelings.and.attitudes.towards.artificial.intelligence.and.deep.learning.in.medicine.and.radiology...The.human..non.interventional..physician.will.be.replaced.in.the.foreseeable.future.</th>\n",
       "      <th>X21.Feelings.and.attitudes.towards.artificial.intelligence.and.deep.learning.in.medicine.and.radiology...In.the.foreseeable.future..all.physicians.will.be.replaced.</th>\n",
       "      <th>X22.Feelings.and.attitudes.towards.artificial.intelligence.and.deep.learning.in.medicine.and.radiology...These.developments.frighten.me.</th>\n",
       "      <th>X23.Feelings.and.attitudes.towards.artificial.intelligence.and.deep.learning.in.medicine.and.radiology...These.developments.make.radiology.more.exciting.to.me.</th>\n",
       "      <th>X24.Feelings.and.attitudes.towards.artificial.intelligence.and.deep.learning.in.medicine.and.radiology...These.developments.make.medicine.in.general.more.exciting.to.me.</th>\n",
       "      <th>X25.Feelings.and.attitudes.towards.artificial.intelligence.and.deep.learning.in.medicine.and.radiology...Artificial.intelligence.will.never.make.the.human.physician.expendable.</th>\n",
       "      <th>X26.Feelings.and.attitudes.towards.artificial.intelligence.and.deep.learning.in.medicine.and.radiology...The.impact.of.artificial.intelligence.alone.will.reduce.the.number.of.radiologists.that.are.needed..</th>\n",
       "      <th>X27.Feelings.and.attitudes.towards.artificial.intelligence.and.deep.learning.in.medicine.and.radiology...Artificial.intelligence.will.improve.radiology.</th>\n",
       "      <th>X28.Feelings.and.attitudes.towards.artificial.intelligence.and.deep.learning.in.medicine.and.radiology...Artificial.intelligence.will.improve.medicine.in.general.</th>\n",
       "      <th>X29.Feelings.and.attitudes.towards.artificial.intelligence.and.deep.learning.in.medicine.and.radiology...I.am.less.likely.to.consider.a.career.in.radiology..given.the.advancement.of.AI.</th>\n",
       "    </tr>\n",
       "  </thead>\n",
       "  <tbody>\n",
       "    <tr>\n",
       "      <th>0</th>\n",
       "      <td>1</td>\n",
       "      <td>1</td>\n",
       "      <td>0</td>\n",
       "      <td>0</td>\n",
       "      <td>0</td>\n",
       "      <td>1</td>\n",
       "      <td>0</td>\n",
       "      <td>9</td>\n",
       "      <td>1</td>\n",
       "      <td>9</td>\n",
       "      <td>1</td>\n",
       "      <td>1</td>\n",
       "      <td>0</td>\n",
       "    </tr>\n",
       "    <tr>\n",
       "      <th>1</th>\n",
       "      <td>1</td>\n",
       "      <td>1</td>\n",
       "      <td>1</td>\n",
       "      <td>1</td>\n",
       "      <td>0</td>\n",
       "      <td>0</td>\n",
       "      <td>1</td>\n",
       "      <td>1</td>\n",
       "      <td>0</td>\n",
       "      <td>1</td>\n",
       "      <td>1</td>\n",
       "      <td>1</td>\n",
       "      <td>1</td>\n",
       "    </tr>\n",
       "    <tr>\n",
       "      <th>2</th>\n",
       "      <td>1</td>\n",
       "      <td>1</td>\n",
       "      <td>9</td>\n",
       "      <td>0</td>\n",
       "      <td>0</td>\n",
       "      <td>1</td>\n",
       "      <td>1</td>\n",
       "      <td>1</td>\n",
       "      <td>1</td>\n",
       "      <td>1</td>\n",
       "      <td>1</td>\n",
       "      <td>1</td>\n",
       "      <td>1</td>\n",
       "    </tr>\n",
       "    <tr>\n",
       "      <th>3</th>\n",
       "      <td>1</td>\n",
       "      <td>1</td>\n",
       "      <td>1</td>\n",
       "      <td>1</td>\n",
       "      <td>1</td>\n",
       "      <td>1</td>\n",
       "      <td>1</td>\n",
       "      <td>1</td>\n",
       "      <td>1</td>\n",
       "      <td>1</td>\n",
       "      <td>1</td>\n",
       "      <td>1</td>\n",
       "      <td>1</td>\n",
       "    </tr>\n",
       "    <tr>\n",
       "      <th>4</th>\n",
       "      <td>1</td>\n",
       "      <td>1</td>\n",
       "      <td>9</td>\n",
       "      <td>0</td>\n",
       "      <td>0</td>\n",
       "      <td>0</td>\n",
       "      <td>9</td>\n",
       "      <td>1</td>\n",
       "      <td>9</td>\n",
       "      <td>1</td>\n",
       "      <td>1</td>\n",
       "      <td>1</td>\n",
       "      <td>1</td>\n",
       "    </tr>\n",
       "  </tbody>\n",
       "</table>\n",
       "</div>"
      ],
      "text/plain": [
       "   X17.Feelings.and.attitudes.towards.artificial.intelligence.and.deep.learning.in.medicine.and.radiology...Artificial.intelligence.will.revolutionize.radiology.  \\\n",
       "0                                                  1                                                                                                                \n",
       "1                                                  1                                                                                                                \n",
       "2                                                  1                                                                                                                \n",
       "3                                                  1                                                                                                                \n",
       "4                                                  1                                                                                                                \n",
       "\n",
       "   X18.Feelings.and.attitudes.towards.artificial.intelligence.and.deep.learning.in.medicine.and.radiology...Artificial.intelligence.will.revolutionize.medicine.in.general.  \\\n",
       "0                                                  1                                                                                                                          \n",
       "1                                                  1                                                                                                                          \n",
       "2                                                  1                                                                                                                          \n",
       "3                                                  1                                                                                                                          \n",
       "4                                                  1                                                                                                                          \n",
       "\n",
       "   X19.Feelings.and.attitudes.towards.artificial.intelligence.and.deep.learning.in.medicine.and.radiology...The.human.radiologist.will.be.replaced.in.the.foreseeable.future.  \\\n",
       "0                                                  0                                                                                                                            \n",
       "1                                                  1                                                                                                                            \n",
       "2                                                  9                                                                                                                            \n",
       "3                                                  1                                                                                                                            \n",
       "4                                                  9                                                                                                                            \n",
       "\n",
       "   X20.Feelings.and.attitudes.towards.artificial.intelligence.and.deep.learning.in.medicine.and.radiology...The.human..non.interventional..physician.will.be.replaced.in.the.foreseeable.future.  \\\n",
       "0                                                  0                                                                                                                                               \n",
       "1                                                  1                                                                                                                                               \n",
       "2                                                  0                                                                                                                                               \n",
       "3                                                  1                                                                                                                                               \n",
       "4                                                  0                                                                                                                                               \n",
       "\n",
       "   X21.Feelings.and.attitudes.towards.artificial.intelligence.and.deep.learning.in.medicine.and.radiology...In.the.foreseeable.future..all.physicians.will.be.replaced.  \\\n",
       "0                                                  0                                                                                                                      \n",
       "1                                                  0                                                                                                                      \n",
       "2                                                  0                                                                                                                      \n",
       "3                                                  1                                                                                                                      \n",
       "4                                                  0                                                                                                                      \n",
       "\n",
       "   X22.Feelings.and.attitudes.towards.artificial.intelligence.and.deep.learning.in.medicine.and.radiology...These.developments.frighten.me.  \\\n",
       "0                                                  1                                                                                          \n",
       "1                                                  0                                                                                          \n",
       "2                                                  1                                                                                          \n",
       "3                                                  1                                                                                          \n",
       "4                                                  0                                                                                          \n",
       "\n",
       "   X23.Feelings.and.attitudes.towards.artificial.intelligence.and.deep.learning.in.medicine.and.radiology...These.developments.make.radiology.more.exciting.to.me.  \\\n",
       "0                                                  0                                                                                                                 \n",
       "1                                                  1                                                                                                                 \n",
       "2                                                  1                                                                                                                 \n",
       "3                                                  1                                                                                                                 \n",
       "4                                                  9                                                                                                                 \n",
       "\n",
       "   X24.Feelings.and.attitudes.towards.artificial.intelligence.and.deep.learning.in.medicine.and.radiology...These.developments.make.medicine.in.general.more.exciting.to.me.  \\\n",
       "0                                                  9                                                                                                                           \n",
       "1                                                  1                                                                                                                           \n",
       "2                                                  1                                                                                                                           \n",
       "3                                                  1                                                                                                                           \n",
       "4                                                  1                                                                                                                           \n",
       "\n",
       "   X25.Feelings.and.attitudes.towards.artificial.intelligence.and.deep.learning.in.medicine.and.radiology...Artificial.intelligence.will.never.make.the.human.physician.expendable.  \\\n",
       "0                                                  1                                                                                                                                  \n",
       "1                                                  0                                                                                                                                  \n",
       "2                                                  1                                                                                                                                  \n",
       "3                                                  1                                                                                                                                  \n",
       "4                                                  9                                                                                                                                  \n",
       "\n",
       "   X26.Feelings.and.attitudes.towards.artificial.intelligence.and.deep.learning.in.medicine.and.radiology...The.impact.of.artificial.intelligence.alone.will.reduce.the.number.of.radiologists.that.are.needed..  \\\n",
       "0                                                  9                                                                                                                                                               \n",
       "1                                                  1                                                                                                                                                               \n",
       "2                                                  1                                                                                                                                                               \n",
       "3                                                  1                                                                                                                                                               \n",
       "4                                                  1                                                                                                                                                               \n",
       "\n",
       "   X27.Feelings.and.attitudes.towards.artificial.intelligence.and.deep.learning.in.medicine.and.radiology...Artificial.intelligence.will.improve.radiology.  \\\n",
       "0                                                  1                                                                                                          \n",
       "1                                                  1                                                                                                          \n",
       "2                                                  1                                                                                                          \n",
       "3                                                  1                                                                                                          \n",
       "4                                                  1                                                                                                          \n",
       "\n",
       "   X28.Feelings.and.attitudes.towards.artificial.intelligence.and.deep.learning.in.medicine.and.radiology...Artificial.intelligence.will.improve.medicine.in.general.  \\\n",
       "0                                                  1                                                                                                                    \n",
       "1                                                  1                                                                                                                    \n",
       "2                                                  1                                                                                                                    \n",
       "3                                                  1                                                                                                                    \n",
       "4                                                  1                                                                                                                    \n",
       "\n",
       "   X29.Feelings.and.attitudes.towards.artificial.intelligence.and.deep.learning.in.medicine.and.radiology...I.am.less.likely.to.consider.a.career.in.radiology..given.the.advancement.of.AI.  \n",
       "0                                                  0                                                                                                                                          \n",
       "1                                                  1                                                                                                                                          \n",
       "2                                                  1                                                                                                                                          \n",
       "3                                                  1                                                                                                                                          \n",
       "4                                                  1                                                                                                                                          "
      ]
     },
     "execution_count": 278,
     "metadata": {},
     "output_type": "execute_result"
    }
   ],
   "source": [
    "df_attitude.head()"
   ]
  },
  {
   "cell_type": "code",
   "execution_count": 279,
   "id": "6d0b2cfa",
   "metadata": {},
   "outputs": [],
   "source": [
    "df_attitude=df_attitude.astype(object)"
   ]
  },
  {
   "cell_type": "code",
   "execution_count": 280,
   "id": "5dcaf418",
   "metadata": {},
   "outputs": [
    {
     "name": "stderr",
     "output_type": "stream",
     "text": [
      "/tmp/ipykernel_25075/4065502052.py:1: FutureWarning: In a future version, the Index constructor will not infer numeric dtypes when passed object-dtype sequences (matching Series behavior)\n",
      "  df_attitude_dummies=pd.get_dummies(df_attitude)\n",
      "/tmp/ipykernel_25075/4065502052.py:1: FutureWarning: In a future version, the Index constructor will not infer numeric dtypes when passed object-dtype sequences (matching Series behavior)\n",
      "  df_attitude_dummies=pd.get_dummies(df_attitude)\n",
      "/tmp/ipykernel_25075/4065502052.py:1: FutureWarning: In a future version, the Index constructor will not infer numeric dtypes when passed object-dtype sequences (matching Series behavior)\n",
      "  df_attitude_dummies=pd.get_dummies(df_attitude)\n",
      "/tmp/ipykernel_25075/4065502052.py:1: FutureWarning: In a future version, the Index constructor will not infer numeric dtypes when passed object-dtype sequences (matching Series behavior)\n",
      "  df_attitude_dummies=pd.get_dummies(df_attitude)\n",
      "/tmp/ipykernel_25075/4065502052.py:1: FutureWarning: In a future version, the Index constructor will not infer numeric dtypes when passed object-dtype sequences (matching Series behavior)\n",
      "  df_attitude_dummies=pd.get_dummies(df_attitude)\n",
      "/tmp/ipykernel_25075/4065502052.py:1: FutureWarning: In a future version, the Index constructor will not infer numeric dtypes when passed object-dtype sequences (matching Series behavior)\n",
      "  df_attitude_dummies=pd.get_dummies(df_attitude)\n",
      "/tmp/ipykernel_25075/4065502052.py:1: FutureWarning: In a future version, the Index constructor will not infer numeric dtypes when passed object-dtype sequences (matching Series behavior)\n",
      "  df_attitude_dummies=pd.get_dummies(df_attitude)\n",
      "/tmp/ipykernel_25075/4065502052.py:1: FutureWarning: In a future version, the Index constructor will not infer numeric dtypes when passed object-dtype sequences (matching Series behavior)\n",
      "  df_attitude_dummies=pd.get_dummies(df_attitude)\n",
      "/tmp/ipykernel_25075/4065502052.py:1: FutureWarning: In a future version, the Index constructor will not infer numeric dtypes when passed object-dtype sequences (matching Series behavior)\n",
      "  df_attitude_dummies=pd.get_dummies(df_attitude)\n",
      "/tmp/ipykernel_25075/4065502052.py:1: FutureWarning: In a future version, the Index constructor will not infer numeric dtypes when passed object-dtype sequences (matching Series behavior)\n",
      "  df_attitude_dummies=pd.get_dummies(df_attitude)\n",
      "/tmp/ipykernel_25075/4065502052.py:1: FutureWarning: In a future version, the Index constructor will not infer numeric dtypes when passed object-dtype sequences (matching Series behavior)\n",
      "  df_attitude_dummies=pd.get_dummies(df_attitude)\n",
      "/tmp/ipykernel_25075/4065502052.py:1: FutureWarning: In a future version, the Index constructor will not infer numeric dtypes when passed object-dtype sequences (matching Series behavior)\n",
      "  df_attitude_dummies=pd.get_dummies(df_attitude)\n",
      "/tmp/ipykernel_25075/4065502052.py:1: FutureWarning: In a future version, the Index constructor will not infer numeric dtypes when passed object-dtype sequences (matching Series behavior)\n",
      "  df_attitude_dummies=pd.get_dummies(df_attitude)\n"
     ]
    }
   ],
   "source": [
    "df_attitude_dummies=pd.get_dummies(df_attitude)"
   ]
  },
  {
   "cell_type": "markdown",
   "id": "b002488a",
   "metadata": {},
   "source": [
    "## elbow method for total attitude"
   ]
  },
  {
   "cell_type": "code",
   "execution_count": 281,
   "id": "7fe3fcf5",
   "metadata": {
    "scrolled": true
   },
   "outputs": [
    {
     "name": "stderr",
     "output_type": "stream",
     "text": [
      "/home/tarek/.local/lib/python3.10/site-packages/sklearn/cluster/_kmeans.py:870: FutureWarning: The default value of `n_init` will change from 10 to 'auto' in 1.4. Set the value of `n_init` explicitly to suppress the warning\n",
      "  warnings.warn(\n",
      "/home/tarek/.local/lib/python3.10/site-packages/sklearn/cluster/_kmeans.py:870: FutureWarning: The default value of `n_init` will change from 10 to 'auto' in 1.4. Set the value of `n_init` explicitly to suppress the warning\n",
      "  warnings.warn(\n",
      "/home/tarek/.local/lib/python3.10/site-packages/sklearn/cluster/_kmeans.py:870: FutureWarning: The default value of `n_init` will change from 10 to 'auto' in 1.4. Set the value of `n_init` explicitly to suppress the warning\n",
      "  warnings.warn(\n",
      "/home/tarek/.local/lib/python3.10/site-packages/sklearn/cluster/_kmeans.py:870: FutureWarning: The default value of `n_init` will change from 10 to 'auto' in 1.4. Set the value of `n_init` explicitly to suppress the warning\n",
      "  warnings.warn(\n",
      "/home/tarek/.local/lib/python3.10/site-packages/sklearn/cluster/_kmeans.py:870: FutureWarning: The default value of `n_init` will change from 10 to 'auto' in 1.4. Set the value of `n_init` explicitly to suppress the warning\n",
      "  warnings.warn(\n",
      "/home/tarek/.local/lib/python3.10/site-packages/sklearn/cluster/_kmeans.py:870: FutureWarning: The default value of `n_init` will change from 10 to 'auto' in 1.4. Set the value of `n_init` explicitly to suppress the warning\n",
      "  warnings.warn(\n",
      "/home/tarek/.local/lib/python3.10/site-packages/sklearn/cluster/_kmeans.py:870: FutureWarning: The default value of `n_init` will change from 10 to 'auto' in 1.4. Set the value of `n_init` explicitly to suppress the warning\n",
      "  warnings.warn(\n",
      "/home/tarek/.local/lib/python3.10/site-packages/sklearn/cluster/_kmeans.py:870: FutureWarning: The default value of `n_init` will change from 10 to 'auto' in 1.4. Set the value of `n_init` explicitly to suppress the warning\n",
      "  warnings.warn(\n",
      "/home/tarek/.local/lib/python3.10/site-packages/sklearn/cluster/_kmeans.py:870: FutureWarning: The default value of `n_init` will change from 10 to 'auto' in 1.4. Set the value of `n_init` explicitly to suppress the warning\n",
      "  warnings.warn(\n",
      "/home/tarek/.local/lib/python3.10/site-packages/sklearn/cluster/_kmeans.py:870: FutureWarning: The default value of `n_init` will change from 10 to 'auto' in 1.4. Set the value of `n_init` explicitly to suppress the warning\n",
      "  warnings.warn(\n"
     ]
    },
    {
     "data": {
      "text/plain": [
       "[<matplotlib.lines.Line2D at 0x7efc844416c0>]"
      ]
     },
     "execution_count": 281,
     "metadata": {},
     "output_type": "execute_result"
    },
    {
     "data": {
      "image/png": "[encoded data removed]",
      "text/plain": [
       "<Figure size 640x480 with 1 Axes>"
      ]
     },
     "metadata": {},
     "output_type": "display_data"
    }
   ],
   "source": [
    "wcss_t_a_ohc=[]\n",
    "for i in range(1,11):\n",
    "    kmeans=KMeans(n_clusters=i, init=\"k-means++\", random_state=42)\n",
    "    kmeans.fit(df_attitude_dummies)\n",
    "    wcss_t_a_ohc.append(kmeans.inertia_)\n",
    "    \n",
    "plt.plot(wcss)"
   ]
  },
  {
   "cell_type": "code",
   "execution_count": 282,
   "id": "4084cc06",
   "metadata": {},
   "outputs": [
    {
     "name": "stderr",
     "output_type": "stream",
     "text": [
      "/home/tarek/.local/lib/python3.10/site-packages/sklearn/cluster/_kmeans.py:870: FutureWarning: The default value of `n_init` will change from 10 to 'auto' in 1.4. Set the value of `n_init` explicitly to suppress the warning\n",
      "  warnings.warn(\n"
     ]
    },
    {
     "name": "stdout",
     "output_type": "stream",
     "text": [
      "silhouette score for total attitude ohc: 0.13896627140463536\n"
     ]
    }
   ],
   "source": [
    "km_att_t_ohc=KMeans(n_clusters=2)\n",
    "km_att_t_ohc.fit(df_attitude_dummies)\n",
    "silhouette_avg_att_t_ohc=silhouette_score(df_attitude_dummies, km_att_t_ohc.labels_)\n",
    "print(\"silhouette score for total attitude ohc:\", silhouette_avg_att_t_ohc)"
   ]
  },
  {
   "cell_type": "markdown",
   "id": "5c8e90b9",
   "metadata": {},
   "source": [
    "## standardization"
   ]
  },
  {
   "cell_type": "code",
   "execution_count": 283,
   "id": "4573cffd",
   "metadata": {},
   "outputs": [],
   "source": [
    "df_attitude=df[['X17.Feelings.and.attitudes.towards.artificial.intelligence.and.deep.learning.in.medicine.and.radiology...Artificial.intelligence.will.revolutionize.radiology.',\n",
    "       'X18.Feelings.and.attitudes.towards.artificial.intelligence.and.deep.learning.in.medicine.and.radiology...Artificial.intelligence.will.revolutionize.medicine.in.general.',\n",
    "       'X19.Feelings.and.attitudes.towards.artificial.intelligence.and.deep.learning.in.medicine.and.radiology...The.human.radiologist.will.be.replaced.in.the.foreseeable.future.',\n",
    "       'X20.Feelings.and.attitudes.towards.artificial.intelligence.and.deep.learning.in.medicine.and.radiology...The.human..non.interventional..physician.will.be.replaced.in.the.foreseeable.future.',\n",
    "       'X21.Feelings.and.attitudes.towards.artificial.intelligence.and.deep.learning.in.medicine.and.radiology...In.the.foreseeable.future..all.physicians.will.be.replaced.',\n",
    "       'X22.Feelings.and.attitudes.towards.artificial.intelligence.and.deep.learning.in.medicine.and.radiology...These.developments.frighten.me.',\n",
    "       'X23.Feelings.and.attitudes.towards.artificial.intelligence.and.deep.learning.in.medicine.and.radiology...These.developments.make.radiology.more.exciting.to.me.',\n",
    "       'X24.Feelings.and.attitudes.towards.artificial.intelligence.and.deep.learning.in.medicine.and.radiology...These.developments.make.medicine.in.general.more.exciting.to.me.',\n",
    "       'X25.Feelings.and.attitudes.towards.artificial.intelligence.and.deep.learning.in.medicine.and.radiology...Artificial.intelligence.will.never.make.the.human.physician.expendable.',\n",
    "       'X26.Feelings.and.attitudes.towards.artificial.intelligence.and.deep.learning.in.medicine.and.radiology...The.impact.of.artificial.intelligence.alone.will.reduce.the.number.of.radiologists.that.are.needed..',\n",
    "       'X27.Feelings.and.attitudes.towards.artificial.intelligence.and.deep.learning.in.medicine.and.radiology...Artificial.intelligence.will.improve.radiology.',\n",
    "       'X28.Feelings.and.attitudes.towards.artificial.intelligence.and.deep.learning.in.medicine.and.radiology...Artificial.intelligence.will.improve.medicine.in.general.',\n",
    "       'X29.Feelings.and.attitudes.towards.artificial.intelligence.and.deep.learning.in.medicine.and.radiology...I.am.less.likely.to.consider.a.career.in.radiology..given.the.advancement.of.AI.',\n",
    "       ]]"
   ]
  },
  {
   "cell_type": "code",
   "execution_count": 284,
   "id": "926b951e",
   "metadata": {},
   "outputs": [],
   "source": [
    "df_attitude_s=s.fit_transform(df_attitude)"
   ]
  },
  {
   "cell_type": "code",
   "execution_count": 285,
   "id": "77c368f4",
   "metadata": {},
   "outputs": [
    {
     "name": "stderr",
     "output_type": "stream",
     "text": [
      "/home/tarek/.local/lib/python3.10/site-packages/sklearn/cluster/_kmeans.py:870: FutureWarning: The default value of `n_init` will change from 10 to 'auto' in 1.4. Set the value of `n_init` explicitly to suppress the warning\n",
      "  warnings.warn(\n",
      "/home/tarek/.local/lib/python3.10/site-packages/sklearn/cluster/_kmeans.py:870: FutureWarning: The default value of `n_init` will change from 10 to 'auto' in 1.4. Set the value of `n_init` explicitly to suppress the warning\n",
      "  warnings.warn(\n",
      "/home/tarek/.local/lib/python3.10/site-packages/sklearn/cluster/_kmeans.py:870: FutureWarning: The default value of `n_init` will change from 10 to 'auto' in 1.4. Set the value of `n_init` explicitly to suppress the warning\n",
      "  warnings.warn(\n",
      "/home/tarek/.local/lib/python3.10/site-packages/sklearn/cluster/_kmeans.py:870: FutureWarning: The default value of `n_init` will change from 10 to 'auto' in 1.4. Set the value of `n_init` explicitly to suppress the warning\n",
      "  warnings.warn(\n",
      "/home/tarek/.local/lib/python3.10/site-packages/sklearn/cluster/_kmeans.py:870: FutureWarning: The default value of `n_init` will change from 10 to 'auto' in 1.4. Set the value of `n_init` explicitly to suppress the warning\n",
      "  warnings.warn(\n",
      "/home/tarek/.local/lib/python3.10/site-packages/sklearn/cluster/_kmeans.py:870: FutureWarning: The default value of `n_init` will change from 10 to 'auto' in 1.4. Set the value of `n_init` explicitly to suppress the warning\n",
      "  warnings.warn(\n",
      "/home/tarek/.local/lib/python3.10/site-packages/sklearn/cluster/_kmeans.py:870: FutureWarning: The default value of `n_init` will change from 10 to 'auto' in 1.4. Set the value of `n_init` explicitly to suppress the warning\n",
      "  warnings.warn(\n",
      "/home/tarek/.local/lib/python3.10/site-packages/sklearn/cluster/_kmeans.py:870: FutureWarning: The default value of `n_init` will change from 10 to 'auto' in 1.4. Set the value of `n_init` explicitly to suppress the warning\n",
      "  warnings.warn(\n",
      "/home/tarek/.local/lib/python3.10/site-packages/sklearn/cluster/_kmeans.py:870: FutureWarning: The default value of `n_init` will change from 10 to 'auto' in 1.4. Set the value of `n_init` explicitly to suppress the warning\n",
      "  warnings.warn(\n",
      "/home/tarek/.local/lib/python3.10/site-packages/sklearn/cluster/_kmeans.py:870: FutureWarning: The default value of `n_init` will change from 10 to 'auto' in 1.4. Set the value of `n_init` explicitly to suppress the warning\n",
      "  warnings.warn(\n"
     ]
    },
    {
     "data": {
      "text/plain": [
       "[<matplotlib.lines.Line2D at 0x7efc81371480>]"
      ]
     },
     "execution_count": 285,
     "metadata": {},
     "output_type": "execute_result"
    },
    {
     "data": {
      "image/png": "[encoded data removed]",
      "text/plain": [
       "<Figure size 640x480 with 1 Axes>"
      ]
     },
     "metadata": {},
     "output_type": "display_data"
    }
   ],
   "source": [
    "#finding the proper n_clust\n",
    "wcss_t_a_s=[]\n",
    "for i in range(1,11):\n",
    "    kmeans=KMeans(n_clusters=i, init=\"k-means++\", random_state=42)\n",
    "    kmeans.fit(df_attitude_s)\n",
    "    wcss_t_a_s.append(kmeans.inertia_)\n",
    "    \n",
    "plt.plot(wcss_t_a_s)"
   ]
  },
  {
   "cell_type": "code",
   "execution_count": 310,
   "id": "e957146c",
   "metadata": {},
   "outputs": [
    {
     "name": "stderr",
     "output_type": "stream",
     "text": [
      "/home/tarek/.local/lib/python3.10/site-packages/sklearn/cluster/_kmeans.py:870: FutureWarning: The default value of `n_init` will change from 10 to 'auto' in 1.4. Set the value of `n_init` explicitly to suppress the warning\n",
      "  warnings.warn(\n"
     ]
    },
    {
     "name": "stdout",
     "output_type": "stream",
     "text": [
      "silhouette_avg_att_t_s 0.3258727790036544\n"
     ]
    }
   ],
   "source": [
    "km_att_t_s=KMeans(n_clusters=2)\n",
    "km_att_t_s.fit(df_attitude_s)\n",
    "silhouette_avg_att_t_s=silhouette_score(df_attitude_s, km_att_t_s.labels_)\n",
    "print(\"silhouette_avg_att_t_s\",silhouette_avg_att_t_s)"
   ]
  },
  {
   "cell_type": "code",
   "execution_count": 287,
   "id": "112b2612",
   "metadata": {},
   "outputs": [],
   "source": [
    "#silhouette_avg_att_t_s 0.3258727790036544\n",
    "#silhouette score for total attitude ohc: 0.13896627140463536"
   ]
  },
  {
   "cell_type": "code",
   "execution_count": 288,
   "id": "2d4c73d5",
   "metadata": {},
   "outputs": [
    {
     "name": "stderr",
     "output_type": "stream",
     "text": [
      "/tmp/ipykernel_25075/2005127427.py:1: SettingWithCopyWarning: \n",
      "A value is trying to be set on a copy of a slice from a DataFrame.\n",
      "Try using .loc[row_indexer,col_indexer] = value instead\n",
      "\n",
      "See the caveats in the documentation: https://pandas.pydata.org/pandas-docs/stable/user_guide/indexing.html#returning-a-view-versus-a-copy\n",
      "  df_attitude[\"km\"]=km_att_t_s.predict(df_attitude_s)\n"
     ]
    },
    {
     "data": {
      "text/plain": [
       "0    3818\n",
       "1     674\n",
       "Name: km, dtype: int64"
      ]
     },
     "execution_count": 288,
     "metadata": {},
     "output_type": "execute_result"
    }
   ],
   "source": [
    "df_attitude[\"km\"]=km_att_t_s.predict(df_attitude_s)\n",
    "df_attitude.km.value_counts()"
   ]
  },
  {
   "cell_type": "code",
   "execution_count": 332,
   "id": "862b77aa",
   "metadata": {},
   "outputs": [],
   "source": [
    "from tableone import TableOne\n",
    "#merging the 2 dfs\n",
    "df_total_attitude_final=pd.concat([df_demog, df_attitude], axis=1)\n",
    "total_attitude_clus_table=TableOne(df_total_attitude_final, groupby=\"km\", pval=True)\n",
    "total_attitude_clus_table.to_csv(\"total attitude clus table S.csv\")"
   ]
  },
  {
   "cell_type": "markdown",
   "id": "e0fcf112",
   "metadata": {},
   "source": [
    "## ai mc section"
   ]
  },
  {
   "cell_type": "code",
   "execution_count": 290,
   "id": "1174510a",
   "metadata": {},
   "outputs": [],
   "source": [
    "df_ai_mc=df[['X31.All.medical.students.should.receive.teaching.in.artificial.intelligence',\n",
    "       'X32.Teaching.in.artificial.intelligence.will.be.beneficial.for.my.career',\n",
    "       'X33.At.the.end.of.my.medical.degree..I.will.be.confident.in.using.basic.healthcare.AI.tools.if.required',\n",
    "       'X34.At.the.end.of.my.medical.degree..I.will.have.a.better.understanding.of.the.methods.used.to.assess.healthcare.AI.algorithm.performance',\n",
    "       'X35.Overall..at.the.end.of.my.medical.degree..I.feel.I.will.possess.the.knowledge.needed.to.work.with.AI.in.routine.clinical.practice']]"
   ]
  },
  {
   "cell_type": "code",
   "execution_count": 291,
   "id": "8e690acb",
   "metadata": {},
   "outputs": [],
   "source": [
    "from sklearn.preprocessing import StandardScaler\n",
    "df_ai_mc_s=s.fit_transform(df_ai_mc)"
   ]
  },
  {
   "cell_type": "code",
   "execution_count": 292,
   "id": "4b20aea4",
   "metadata": {},
   "outputs": [
    {
     "data": {
      "text/html": [
       "<div>\n",
       "<style scoped>\n",
       "    .dataframe tbody tr th:only-of-type {\n",
       "        vertical-align: middle;\n",
       "    }\n",
       "\n",
       "    .dataframe tbody tr th {\n",
       "        vertical-align: top;\n",
       "    }\n",
       "\n",
       "    .dataframe thead th {\n",
       "        text-align: right;\n",
       "    }\n",
       "</style>\n",
       "<table border=\"1\" class=\"dataframe\">\n",
       "  <thead>\n",
       "    <tr style=\"text-align: right;\">\n",
       "      <th></th>\n",
       "      <th>0</th>\n",
       "      <th>1</th>\n",
       "      <th>2</th>\n",
       "      <th>3</th>\n",
       "      <th>4</th>\n",
       "    </tr>\n",
       "  </thead>\n",
       "  <tbody>\n",
       "    <tr>\n",
       "      <th>0</th>\n",
       "      <td>-0.468060</td>\n",
       "      <td>-0.779978</td>\n",
       "      <td>1.561868</td>\n",
       "      <td>1.481126</td>\n",
       "      <td>1.523427</td>\n",
       "    </tr>\n",
       "    <tr>\n",
       "      <th>1</th>\n",
       "      <td>-0.468060</td>\n",
       "      <td>-0.476473</td>\n",
       "      <td>1.561868</td>\n",
       "      <td>-0.565152</td>\n",
       "      <td>-0.545734</td>\n",
       "    </tr>\n",
       "    <tr>\n",
       "      <th>2</th>\n",
       "      <td>-0.468060</td>\n",
       "      <td>-0.476473</td>\n",
       "      <td>1.561868</td>\n",
       "      <td>-0.565152</td>\n",
       "      <td>1.523427</td>\n",
       "    </tr>\n",
       "    <tr>\n",
       "      <th>3</th>\n",
       "      <td>1.962607</td>\n",
       "      <td>1.951565</td>\n",
       "      <td>1.561868</td>\n",
       "      <td>-0.820937</td>\n",
       "      <td>1.523427</td>\n",
       "    </tr>\n",
       "    <tr>\n",
       "      <th>4</th>\n",
       "      <td>-0.468060</td>\n",
       "      <td>-0.476473</td>\n",
       "      <td>-0.548657</td>\n",
       "      <td>-0.565152</td>\n",
       "      <td>-0.545734</td>\n",
       "    </tr>\n",
       "  </tbody>\n",
       "</table>\n",
       "</div>"
      ],
      "text/plain": [
       "          0         1         2         3         4\n",
       "0 -0.468060 -0.779978  1.561868  1.481126  1.523427\n",
       "1 -0.468060 -0.476473  1.561868 -0.565152 -0.545734\n",
       "2 -0.468060 -0.476473  1.561868 -0.565152  1.523427\n",
       "3  1.962607  1.951565  1.561868 -0.820937  1.523427\n",
       "4 -0.468060 -0.476473 -0.548657 -0.565152 -0.545734"
      ]
     },
     "execution_count": 292,
     "metadata": {},
     "output_type": "execute_result"
    }
   ],
   "source": [
    "df_ai_mc_s2=pd.DataFrame(df_ai_mc_s)\n",
    "df_ai_mc_s2.head()"
   ]
  },
  {
   "cell_type": "code",
   "execution_count": 293,
   "id": "a6a77988",
   "metadata": {},
   "outputs": [
    {
     "name": "stderr",
     "output_type": "stream",
     "text": [
      "/home/tarek/.local/lib/python3.10/site-packages/sklearn/cluster/_kmeans.py:870: FutureWarning: The default value of `n_init` will change from 10 to 'auto' in 1.4. Set the value of `n_init` explicitly to suppress the warning\n",
      "  warnings.warn(\n",
      "/home/tarek/.local/lib/python3.10/site-packages/sklearn/cluster/_kmeans.py:870: FutureWarning: The default value of `n_init` will change from 10 to 'auto' in 1.4. Set the value of `n_init` explicitly to suppress the warning\n",
      "  warnings.warn(\n",
      "/home/tarek/.local/lib/python3.10/site-packages/sklearn/cluster/_kmeans.py:870: FutureWarning: The default value of `n_init` will change from 10 to 'auto' in 1.4. Set the value of `n_init` explicitly to suppress the warning\n",
      "  warnings.warn(\n",
      "/home/tarek/.local/lib/python3.10/site-packages/sklearn/cluster/_kmeans.py:870: FutureWarning: The default value of `n_init` will change from 10 to 'auto' in 1.4. Set the value of `n_init` explicitly to suppress the warning\n",
      "  warnings.warn(\n",
      "/home/tarek/.local/lib/python3.10/site-packages/sklearn/cluster/_kmeans.py:870: FutureWarning: The default value of `n_init` will change from 10 to 'auto' in 1.4. Set the value of `n_init` explicitly to suppress the warning\n",
      "  warnings.warn(\n",
      "/home/tarek/.local/lib/python3.10/site-packages/sklearn/cluster/_kmeans.py:870: FutureWarning: The default value of `n_init` will change from 10 to 'auto' in 1.4. Set the value of `n_init` explicitly to suppress the warning\n",
      "  warnings.warn(\n",
      "/home/tarek/.local/lib/python3.10/site-packages/sklearn/cluster/_kmeans.py:870: FutureWarning: The default value of `n_init` will change from 10 to 'auto' in 1.4. Set the value of `n_init` explicitly to suppress the warning\n",
      "  warnings.warn(\n",
      "/home/tarek/.local/lib/python3.10/site-packages/sklearn/cluster/_kmeans.py:870: FutureWarning: The default value of `n_init` will change from 10 to 'auto' in 1.4. Set the value of `n_init` explicitly to suppress the warning\n",
      "  warnings.warn(\n",
      "/home/tarek/.local/lib/python3.10/site-packages/sklearn/cluster/_kmeans.py:870: FutureWarning: The default value of `n_init` will change from 10 to 'auto' in 1.4. Set the value of `n_init` explicitly to suppress the warning\n",
      "  warnings.warn(\n",
      "/home/tarek/.local/lib/python3.10/site-packages/sklearn/cluster/_kmeans.py:870: FutureWarning: The default value of `n_init` will change from 10 to 'auto' in 1.4. Set the value of `n_init` explicitly to suppress the warning\n",
      "  warnings.warn(\n"
     ]
    },
    {
     "data": {
      "text/plain": [
       "[<matplotlib.lines.Line2D at 0x7efc813d12d0>]"
      ]
     },
     "execution_count": 293,
     "metadata": {},
     "output_type": "execute_result"
    },
    {
     "data": {
      "image/png": "[encoded data removed]",
      "text/plain": [
       "<Figure size 640x480 with 1 Axes>"
      ]
     },
     "metadata": {},
     "output_type": "display_data"
    }
   ],
   "source": [
    "wcss_ai_mc_s=[]\n",
    "for i in range (1,11):\n",
    "    kmeans = KMeans(n_clusters=i, init='k-means++', random_state=42)\n",
    "    kmeans.fit(df_ai_mc_s)\n",
    "    wcss_ai_mc_s.append(kmeans.inertia_)\n",
    "    \n",
    "plt.plot(wcss_ai_mc_s)"
   ]
  },
  {
   "cell_type": "code",
   "execution_count": 294,
   "id": "0d63de2c",
   "metadata": {},
   "outputs": [
    {
     "name": "stderr",
     "output_type": "stream",
     "text": [
      "/home/tarek/.local/lib/python3.10/site-packages/sklearn/cluster/_kmeans.py:870: FutureWarning: The default value of `n_init` will change from 10 to 'auto' in 1.4. Set the value of `n_init` explicitly to suppress the warning\n",
      "  warnings.warn(\n"
     ]
    },
    {
     "name": "stdout",
     "output_type": "stream",
     "text": [
      "silhouette_avg_mc_s: 0.42096242273440815\n"
     ]
    }
   ],
   "source": [
    "km_mc_s=KMeans(n_clusters=2)\n",
    "km_mc_s.fit(df_ai_mc_s)\n",
    "silhouette_avg_mc_s=silhouette_score(df_ai_mc_s, km_mc_s.labels_)\n",
    "print(\"silhouette_avg_mc_s:\",silhouette_avg_mc_s)\n"
   ]
  },
  {
   "cell_type": "code",
   "execution_count": 333,
   "id": "ee75921a",
   "metadata": {},
   "outputs": [
    {
     "name": "stderr",
     "output_type": "stream",
     "text": [
      "/tmp/ipykernel_25075/3373286454.py:1: SettingWithCopyWarning: \n",
      "A value is trying to be set on a copy of a slice from a DataFrame.\n",
      "Try using .loc[row_indexer,col_indexer] = value instead\n",
      "\n",
      "See the caveats in the documentation: https://pandas.pydata.org/pandas-docs/stable/user_guide/indexing.html#returning-a-view-versus-a-copy\n",
      "  df_ai_mc[\"km\"]=km_mc_s.predict(df_ai_mc_s)\n"
     ]
    }
   ],
   "source": [
    "df_ai_mc[\"km\"]=km_mc_s.predict(df_ai_mc_s)\n",
    "df_ai_mc_s_final=pd.concat([df_demog,df_ai_mc], axis=1)"
   ]
  },
  {
   "cell_type": "code",
   "execution_count": 335,
   "id": "a8ec8707",
   "metadata": {},
   "outputs": [],
   "source": [
    "ai_mc_s_table=TableOne(df_ai_mc_s_final, groupby=\"km\", pval=True)\n",
    "ai_mc_s_table.to_csv(\"ai mc table clust S.csv\")"
   ]
  },
  {
   "cell_type": "code",
   "execution_count": 297,
   "id": "3f13d194",
   "metadata": {},
   "outputs": [],
   "source": [
    "#ai_mc_s_table"
   ]
  },
  {
   "cell_type": "markdown",
   "id": "f8bcb1a5",
   "metadata": {},
   "source": [
    "## preception section"
   ]
  },
  {
   "cell_type": "markdown",
   "id": "c9c1c0c4",
   "metadata": {},
   "source": [
    "## OHC"
   ]
  },
  {
   "cell_type": "code",
   "execution_count": 298,
   "id": "3a76c9a2",
   "metadata": {},
   "outputs": [],
   "source": [
    "df_precep=df[['X36.Would.you.consider.using.the.following.clinical.workflow..Patients..clinical.images.undergo.artificial.intelligence.analysis..A.specialist.subsequently.reviews.both.the.image.and.the.artificial.intelligence.findings.',\n",
    "       'X37.What.potential.applications.for.AI.in.radiology.do.you.see...Automated.detection.of.pathologies.in.imaging.exams.',\n",
    "       'X38.What.potential.applications.for.AI.in.radiology.do.you.see...Automated.diagnosis.in.imaging.exams.',\n",
    "       'X39.What.potential.applications.for.AI.in.radiology.do.you.see...Automated.indication.of.appropriate.imaging.exams.']]"
   ]
  },
  {
   "cell_type": "code",
   "execution_count": 299,
   "id": "57fe7a1a",
   "metadata": {},
   "outputs": [],
   "source": [
    "df_precep=df_precep.astype(object)"
   ]
  },
  {
   "cell_type": "code",
   "execution_count": 300,
   "id": "fa49c17b",
   "metadata": {},
   "outputs": [
    {
     "name": "stderr",
     "output_type": "stream",
     "text": [
      "/tmp/ipykernel_25075/2413911332.py:1: FutureWarning: In a future version, the Index constructor will not infer numeric dtypes when passed object-dtype sequences (matching Series behavior)\n",
      "  df_precep_dummies=pd.get_dummies(df_precep)\n",
      "/tmp/ipykernel_25075/2413911332.py:1: FutureWarning: In a future version, the Index constructor will not infer numeric dtypes when passed object-dtype sequences (matching Series behavior)\n",
      "  df_precep_dummies=pd.get_dummies(df_precep)\n",
      "/tmp/ipykernel_25075/2413911332.py:1: FutureWarning: In a future version, the Index constructor will not infer numeric dtypes when passed object-dtype sequences (matching Series behavior)\n",
      "  df_precep_dummies=pd.get_dummies(df_precep)\n",
      "/tmp/ipykernel_25075/2413911332.py:1: FutureWarning: In a future version, the Index constructor will not infer numeric dtypes when passed object-dtype sequences (matching Series behavior)\n",
      "  df_precep_dummies=pd.get_dummies(df_precep)\n"
     ]
    },
    {
     "data": {
      "text/plain": [
       "(4492, 12)"
      ]
     },
     "execution_count": 300,
     "metadata": {},
     "output_type": "execute_result"
    }
   ],
   "source": [
    "df_precep_dummies=pd.get_dummies(df_precep)\n",
    "df_precep_dummies.shape"
   ]
  },
  {
   "cell_type": "code",
   "execution_count": 301,
   "id": "9836eeb8",
   "metadata": {},
   "outputs": [
    {
     "name": "stderr",
     "output_type": "stream",
     "text": [
      "/home/tarek/.local/lib/python3.10/site-packages/sklearn/cluster/_kmeans.py:870: FutureWarning: The default value of `n_init` will change from 10 to 'auto' in 1.4. Set the value of `n_init` explicitly to suppress the warning\n",
      "  warnings.warn(\n",
      "/home/tarek/.local/lib/python3.10/site-packages/sklearn/cluster/_kmeans.py:870: FutureWarning: The default value of `n_init` will change from 10 to 'auto' in 1.4. Set the value of `n_init` explicitly to suppress the warning\n",
      "  warnings.warn(\n",
      "/home/tarek/.local/lib/python3.10/site-packages/sklearn/cluster/_kmeans.py:870: FutureWarning: The default value of `n_init` will change from 10 to 'auto' in 1.4. Set the value of `n_init` explicitly to suppress the warning\n",
      "  warnings.warn(\n",
      "/home/tarek/.local/lib/python3.10/site-packages/sklearn/cluster/_kmeans.py:870: FutureWarning: The default value of `n_init` will change from 10 to 'auto' in 1.4. Set the value of `n_init` explicitly to suppress the warning\n",
      "  warnings.warn(\n",
      "/home/tarek/.local/lib/python3.10/site-packages/sklearn/cluster/_kmeans.py:870: FutureWarning: The default value of `n_init` will change from 10 to 'auto' in 1.4. Set the value of `n_init` explicitly to suppress the warning\n",
      "  warnings.warn(\n",
      "/home/tarek/.local/lib/python3.10/site-packages/sklearn/cluster/_kmeans.py:870: FutureWarning: The default value of `n_init` will change from 10 to 'auto' in 1.4. Set the value of `n_init` explicitly to suppress the warning\n",
      "  warnings.warn(\n",
      "/home/tarek/.local/lib/python3.10/site-packages/sklearn/cluster/_kmeans.py:870: FutureWarning: The default value of `n_init` will change from 10 to 'auto' in 1.4. Set the value of `n_init` explicitly to suppress the warning\n",
      "  warnings.warn(\n",
      "/home/tarek/.local/lib/python3.10/site-packages/sklearn/cluster/_kmeans.py:870: FutureWarning: The default value of `n_init` will change from 10 to 'auto' in 1.4. Set the value of `n_init` explicitly to suppress the warning\n",
      "  warnings.warn(\n",
      "/home/tarek/.local/lib/python3.10/site-packages/sklearn/cluster/_kmeans.py:870: FutureWarning: The default value of `n_init` will change from 10 to 'auto' in 1.4. Set the value of `n_init` explicitly to suppress the warning\n",
      "  warnings.warn(\n",
      "/home/tarek/.local/lib/python3.10/site-packages/sklearn/cluster/_kmeans.py:870: FutureWarning: The default value of `n_init` will change from 10 to 'auto' in 1.4. Set the value of `n_init` explicitly to suppress the warning\n",
      "  warnings.warn(\n"
     ]
    },
    {
     "data": {
      "text/plain": [
       "[<matplotlib.lines.Line2D at 0x7efc82799cc0>]"
      ]
     },
     "execution_count": 301,
     "metadata": {},
     "output_type": "execute_result"
    },
    {
     "data": {
      "image/png": "[encoded data removed]",
      "text/plain": [
       "<Figure size 640x480 with 1 Axes>"
      ]
     },
     "metadata": {},
     "output_type": "display_data"
    }
   ],
   "source": [
    "wcss_precep_ohc=[]\n",
    "for i in range (1,11):\n",
    "    kmeans = KMeans(n_clusters=i, init='k-means++', random_state=42)\n",
    "    kmeans.fit(df_precep_dummies)\n",
    "    wcss_precep_ohc.append(kmeans.inertia_)\n",
    "    \n",
    "plt.plot(wcss_precep_ohc)"
   ]
  },
  {
   "cell_type": "code",
   "execution_count": 303,
   "id": "fcf6fb5c",
   "metadata": {},
   "outputs": [
    {
     "name": "stderr",
     "output_type": "stream",
     "text": [
      "/home/tarek/.local/lib/python3.10/site-packages/sklearn/cluster/_kmeans.py:870: FutureWarning: The default value of `n_init` will change from 10 to 'auto' in 1.4. Set the value of `n_init` explicitly to suppress the warning\n",
      "  warnings.warn(\n"
     ]
    },
    {
     "name": "stdout",
     "output_type": "stream",
     "text": [
      "Silhouette score precep ohc: 0.37730117374246874\n"
     ]
    }
   ],
   "source": [
    "km_precep_ohc=KMeans(n_clusters=2)\n",
    "km_precep_ohc.fit(df_precep_dummies)\n",
    "silhouette_avg_precep_ohc = silhouette_score(df_precep_dummies, km_precep_ohc.labels_)\n",
    "print('Silhouette score precep ohc:', silhouette_avg_precep_ohc)"
   ]
  },
  {
   "cell_type": "markdown",
   "id": "78581985",
   "metadata": {},
   "source": [
    "## standerdization"
   ]
  },
  {
   "cell_type": "code",
   "execution_count": 304,
   "id": "122e3c34",
   "metadata": {},
   "outputs": [],
   "source": [
    "df_precep=df[['X36.Would.you.consider.using.the.following.clinical.workflow..Patients..clinical.images.undergo.artificial.intelligence.analysis..A.specialist.subsequently.reviews.both.the.image.and.the.artificial.intelligence.findings.',\n",
    "       'X37.What.potential.applications.for.AI.in.radiology.do.you.see...Automated.detection.of.pathologies.in.imaging.exams.',\n",
    "       'X38.What.potential.applications.for.AI.in.radiology.do.you.see...Automated.diagnosis.in.imaging.exams.',\n",
    "       'X39.What.potential.applications.for.AI.in.radiology.do.you.see...Automated.indication.of.appropriate.imaging.exams.']]"
   ]
  },
  {
   "cell_type": "code",
   "execution_count": 305,
   "id": "62f6e6a7",
   "metadata": {},
   "outputs": [
    {
     "name": "stderr",
     "output_type": "stream",
     "text": [
      "/home/tarek/.local/lib/python3.10/site-packages/sklearn/cluster/_kmeans.py:870: FutureWarning: The default value of `n_init` will change from 10 to 'auto' in 1.4. Set the value of `n_init` explicitly to suppress the warning\n",
      "  warnings.warn(\n",
      "/home/tarek/.local/lib/python3.10/site-packages/sklearn/cluster/_kmeans.py:870: FutureWarning: The default value of `n_init` will change from 10 to 'auto' in 1.4. Set the value of `n_init` explicitly to suppress the warning\n",
      "  warnings.warn(\n",
      "/home/tarek/.local/lib/python3.10/site-packages/sklearn/cluster/_kmeans.py:870: FutureWarning: The default value of `n_init` will change from 10 to 'auto' in 1.4. Set the value of `n_init` explicitly to suppress the warning\n",
      "  warnings.warn(\n",
      "/home/tarek/.local/lib/python3.10/site-packages/sklearn/cluster/_kmeans.py:870: FutureWarning: The default value of `n_init` will change from 10 to 'auto' in 1.4. Set the value of `n_init` explicitly to suppress the warning\n",
      "  warnings.warn(\n",
      "/home/tarek/.local/lib/python3.10/site-packages/sklearn/cluster/_kmeans.py:870: FutureWarning: The default value of `n_init` will change from 10 to 'auto' in 1.4. Set the value of `n_init` explicitly to suppress the warning\n",
      "  warnings.warn(\n",
      "/home/tarek/.local/lib/python3.10/site-packages/sklearn/cluster/_kmeans.py:870: FutureWarning: The default value of `n_init` will change from 10 to 'auto' in 1.4. Set the value of `n_init` explicitly to suppress the warning\n",
      "  warnings.warn(\n",
      "/home/tarek/.local/lib/python3.10/site-packages/sklearn/cluster/_kmeans.py:870: FutureWarning: The default value of `n_init` will change from 10 to 'auto' in 1.4. Set the value of `n_init` explicitly to suppress the warning\n",
      "  warnings.warn(\n",
      "/home/tarek/.local/lib/python3.10/site-packages/sklearn/cluster/_kmeans.py:870: FutureWarning: The default value of `n_init` will change from 10 to 'auto' in 1.4. Set the value of `n_init` explicitly to suppress the warning\n",
      "  warnings.warn(\n",
      "/home/tarek/.local/lib/python3.10/site-packages/sklearn/cluster/_kmeans.py:870: FutureWarning: The default value of `n_init` will change from 10 to 'auto' in 1.4. Set the value of `n_init` explicitly to suppress the warning\n",
      "  warnings.warn(\n",
      "/home/tarek/.local/lib/python3.10/site-packages/sklearn/cluster/_kmeans.py:870: FutureWarning: The default value of `n_init` will change from 10 to 'auto' in 1.4. Set the value of `n_init` explicitly to suppress the warning\n",
      "  warnings.warn(\n"
     ]
    },
    {
     "data": {
      "text/plain": [
       "[<matplotlib.lines.Line2D at 0x7efc827231f0>]"
      ]
     },
     "execution_count": 305,
     "metadata": {},
     "output_type": "execute_result"
    },
    {
     "data": {
      "image/png": "[encoded data removed]",
      "text/plain": [
       "<Figure size 640x480 with 1 Axes>"
      ]
     },
     "metadata": {},
     "output_type": "display_data"
    }
   ],
   "source": [
    "df_precep_s=s.fit_transform(df_precep)\n",
    "\n",
    "wcss_precep_s=[]\n",
    "for i in range(1,11):\n",
    "    kmeans=KMeans(n_clusters=i, init=\"k-means++\", random_state=42)\n",
    "    kmeans.fit(df_precep_s)\n",
    "    wcss_precep_s.append(kmeans.inertia_)\n",
    "    \n",
    "plt.plot(wcss_precep_s)"
   ]
  },
  {
   "cell_type": "code",
   "execution_count": 306,
   "id": "8a85a554",
   "metadata": {},
   "outputs": [
    {
     "name": "stderr",
     "output_type": "stream",
     "text": [
      "/home/tarek/.local/lib/python3.10/site-packages/sklearn/cluster/_kmeans.py:870: FutureWarning: The default value of `n_init` will change from 10 to 'auto' in 1.4. Set the value of `n_init` explicitly to suppress the warning\n",
      "  warnings.warn(\n"
     ]
    },
    {
     "name": "stdout",
     "output_type": "stream",
     "text": [
      "silhouette_avg_precep_s: 0.5005621120675738\n"
     ]
    }
   ],
   "source": [
    "km_precep_s=KMeans(n_clusters=2)\n",
    "km_precep_s.fit(df_precep_s)\n",
    "silhouette_avg_precep_s=silhouette_score(df_precep_s, km_precep_s.labels_)\n",
    "print(\"silhouette_avg_precep_s:\", silhouette_avg_precep_s)"
   ]
  },
  {
   "cell_type": "code",
   "execution_count": 336,
   "id": "9230a441",
   "metadata": {},
   "outputs": [
    {
     "name": "stderr",
     "output_type": "stream",
     "text": [
      "/tmp/ipykernel_25075/581945639.py:1: SettingWithCopyWarning: \n",
      "A value is trying to be set on a copy of a slice from a DataFrame.\n",
      "Try using .loc[row_indexer,col_indexer] = value instead\n",
      "\n",
      "See the caveats in the documentation: https://pandas.pydata.org/pandas-docs/stable/user_guide/indexing.html#returning-a-view-versus-a-copy\n",
      "  df_precep[\"km\"]=km_precep_s.predict(df_precep_s)\n"
     ]
    }
   ],
   "source": [
    "df_precep[\"km\"]=km_precep_s.predict(df_precep_s)\n",
    "#merging\n",
    "df_precep_final=pd.concat([df_demog, df_precep], axis=1)\n",
    "percep_clust_s_table=TableOne(df_precep_final, groupby=(\"km\"), pval=True)"
   ]
  },
  {
   "cell_type": "code",
   "execution_count": 338,
   "id": "119d1487",
   "metadata": {},
   "outputs": [],
   "source": [
    "percep_clust_s_table.to_csv(\"precep clust table S.csv\")"
   ]
  }
 ],
 "metadata": {
  "kernelspec": {
   "display_name": "Python 3 (ipykernel)",
   "language": "python",
   "name": "python3"
  },
  "language_info": {
   "codemirror_mode": {
    "name": "ipython",
    "version": 3
   },
   "file_extension": ".py",
   "mimetype": "text/x-python",
   "name": "python",
   "nbconvert_exporter": "python",
   "pygments_lexer": "ipython3",
   "version": "3.10.6"
  }
 },
 "nbformat": 4,
 "nbformat_minor": 5
}
